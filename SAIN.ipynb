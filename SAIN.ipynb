{
  "nbformat": 4,
  "nbformat_minor": 0,
  "metadata": {
    "colab": {
      "name": "SAIN.ipynb",
      "provenance": [],
      "collapsed_sections": [],
      "include_colab_link": true
    },
    "kernelspec": {
      "name": "python3",
      "display_name": "Python 3"
    },
    "language_info": {
      "name": "python"
    }
  },
  "cells": [
    {
      "cell_type": "markdown",
      "metadata": {
        "id": "view-in-github",
        "colab_type": "text"
      },
      "source": [
        "<a href=\"https://colab.research.google.com/github/riaarun25/Link-Prediction-Python/blob/main/SAIN.ipynb\" target=\"_parent\"><img src=\"https://colab.research.google.com/assets/colab-badge.svg\" alt=\"Open In Colab\"/></a>"
      ]
    },
    {
      "cell_type": "markdown",
      "metadata": {
        "id": "5FOJJ9bOz0Mu"
      },
      "source": [
        "# **PREPROCESSING**\n"
      ]
    },
    {
      "cell_type": "markdown",
      "metadata": {
        "id": "xhZgYLbyKzqP"
      },
      "source": [
        "**IMPORTING LIBRARIES**"
      ]
    },
    {
      "cell_type": "code",
      "metadata": {
        "id": "yUbbs_EJKqMX"
      },
      "source": [
        "%matplotlib inline\n",
        "\n",
        "import random\n",
        "\n",
        "import pandas as pd\n",
        "import numpy as np\n",
        "import networkx as nx\n",
        "import matplotlib.pyplot as plt"
      ],
      "execution_count": 1,
      "outputs": []
    },
    {
      "cell_type": "code",
      "metadata": {
        "id": "T9s62BmhZ7pL"
      },
      "source": [
        "from pandas import HDFStore, DataFrame\n",
        "from pandas import read_hdf\n",
        "from scipy.sparse.linalg import svds, eigs\n",
        "import gc\n",
        "from tqdm import tqdm"
      ],
      "execution_count": null,
      "outputs": []
    },
    {
      "cell_type": "markdown",
      "metadata": {
        "id": "RzpOAJRpBUdI"
      },
      "source": [
        "**LOADING AND EXPLORING DATA**"
      ]
    },
    {
      "cell_type": "code",
      "metadata": {
        "id": "qdERi_jV1ttt",
        "colab": {
          "resources": {
            "http://localhost:8080/nbextensions/google.colab/files.js": {
              "data": "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",
              "ok": true,
              "headers": [
                [
                  "content-type",
                  "application/javascript"
                ]
              ],
              "status": 200,
              "status_text": ""
            }
          },
          "base_uri": "https://localhost:8080/",
          "height": 72
        },
        "outputId": "0f26dd67-062f-43cf-f5b7-faf483a34350"
      },
      "source": [
        "from google.colab import files\n",
        "uploaded = files.upload()"
      ],
      "execution_count": 2,
      "outputs": [
        {
          "output_type": "display_data",
          "data": {
            "text/html": [
              "\n",
              "     <input type=\"file\" id=\"files-f779940e-6825-42cb-91d2-ec9cc5918bb6\" name=\"files[]\" multiple disabled\n",
              "        style=\"border:none\" />\n",
              "     <output id=\"result-f779940e-6825-42cb-91d2-ec9cc5918bb6\">\n",
              "      Upload widget is only available when the cell has been executed in the\n",
              "      current browser session. Please rerun this cell to enable.\n",
              "      </output>\n",
              "      <script src=\"/nbextensions/google.colab/files.js\"></script> "
            ],
            "text/plain": [
              "<IPython.core.display.HTML object>"
            ]
          },
          "metadata": {}
        },
        {
          "output_type": "stream",
          "name": "stdout",
          "text": [
            "Saving musae_facebook_edges.csv to musae_facebook_edges.csv\n"
          ]
        }
      ]
    },
    {
      "cell_type": "code",
      "metadata": {
        "id": "YJ2KdWxwDqCw"
      },
      "source": [
        "# Reading data from the csv file into pandas data frame\n",
        "\n",
        "data_set = pd.read_csv('musae_facebook_edges.csv')"
      ],
      "execution_count": 3,
      "outputs": []
    },
    {
      "cell_type": "code",
      "metadata": {
        "colab": {
          "base_uri": "https://localhost:8080/",
          "height": 380
        },
        "id": "uXICGFtNEEfx",
        "outputId": "f2b76cd6-e06b-4d13-8c02-10342b38ba38"
      },
      "source": [
        "print(\"Showing data for first 10 rows (edges)\")\n",
        "data_set.head(10)"
      ],
      "execution_count": 4,
      "outputs": [
        {
          "output_type": "stream",
          "name": "stdout",
          "text": [
            "Showing data for first 10 rows (edges)\n"
          ]
        },
        {
          "output_type": "execute_result",
          "data": {
            "text/html": [
              "<div>\n",
              "<style scoped>\n",
              "    .dataframe tbody tr th:only-of-type {\n",
              "        vertical-align: middle;\n",
              "    }\n",
              "\n",
              "    .dataframe tbody tr th {\n",
              "        vertical-align: top;\n",
              "    }\n",
              "\n",
              "    .dataframe thead th {\n",
              "        text-align: right;\n",
              "    }\n",
              "</style>\n",
              "<table border=\"1\" class=\"dataframe\">\n",
              "  <thead>\n",
              "    <tr style=\"text-align: right;\">\n",
              "      <th></th>\n",
              "      <th>source_node</th>\n",
              "      <th>destination_node</th>\n",
              "    </tr>\n",
              "  </thead>\n",
              "  <tbody>\n",
              "    <tr>\n",
              "      <th>0</th>\n",
              "      <td>0</td>\n",
              "      <td>18427</td>\n",
              "    </tr>\n",
              "    <tr>\n",
              "      <th>1</th>\n",
              "      <td>1</td>\n",
              "      <td>22405</td>\n",
              "    </tr>\n",
              "    <tr>\n",
              "      <th>2</th>\n",
              "      <td>1</td>\n",
              "      <td>22265</td>\n",
              "    </tr>\n",
              "    <tr>\n",
              "      <th>3</th>\n",
              "      <td>1</td>\n",
              "      <td>22208</td>\n",
              "    </tr>\n",
              "    <tr>\n",
              "      <th>4</th>\n",
              "      <td>1</td>\n",
              "      <td>22171</td>\n",
              "    </tr>\n",
              "    <tr>\n",
              "      <th>5</th>\n",
              "      <td>1</td>\n",
              "      <td>21729</td>\n",
              "    </tr>\n",
              "    <tr>\n",
              "      <th>6</th>\n",
              "      <td>1</td>\n",
              "      <td>21708</td>\n",
              "    </tr>\n",
              "    <tr>\n",
              "      <th>7</th>\n",
              "      <td>1</td>\n",
              "      <td>20135</td>\n",
              "    </tr>\n",
              "    <tr>\n",
              "      <th>8</th>\n",
              "      <td>1</td>\n",
              "      <td>20024</td>\n",
              "    </tr>\n",
              "    <tr>\n",
              "      <th>9</th>\n",
              "      <td>1</td>\n",
              "      <td>19743</td>\n",
              "    </tr>\n",
              "  </tbody>\n",
              "</table>\n",
              "</div>"
            ],
            "text/plain": [
              "   source_node  destination_node\n",
              "0            0             18427\n",
              "1            1             22405\n",
              "2            1             22265\n",
              "3            1             22208\n",
              "4            1             22171\n",
              "5            1             21729\n",
              "6            1             21708\n",
              "7            1             20135\n",
              "8            1             20024\n",
              "9            1             19743"
            ]
          },
          "metadata": {},
          "execution_count": 4
        }
      ]
    },
    {
      "cell_type": "code",
      "metadata": {
        "id": "uOvhqx1xEcne",
        "colab": {
          "base_uri": "https://localhost:8080/",
          "height": 380
        },
        "outputId": "2fc25d40-9a16-4540-b1b3-197558091850"
      },
      "source": [
        "print(\"Showing data for last 10 rows (edges)\")\n",
        "data_set.tail(10)"
      ],
      "execution_count": 5,
      "outputs": [
        {
          "output_type": "stream",
          "name": "stdout",
          "text": [
            "Showing data for last 10 rows (edges)\n"
          ]
        },
        {
          "output_type": "execute_result",
          "data": {
            "text/html": [
              "<div>\n",
              "<style scoped>\n",
              "    .dataframe tbody tr th:only-of-type {\n",
              "        vertical-align: middle;\n",
              "    }\n",
              "\n",
              "    .dataframe tbody tr th {\n",
              "        vertical-align: top;\n",
              "    }\n",
              "\n",
              "    .dataframe thead th {\n",
              "        text-align: right;\n",
              "    }\n",
              "</style>\n",
              "<table border=\"1\" class=\"dataframe\">\n",
              "  <thead>\n",
              "    <tr style=\"text-align: right;\">\n",
              "      <th></th>\n",
              "      <th>source_node</th>\n",
              "      <th>destination_node</th>\n",
              "    </tr>\n",
              "  </thead>\n",
              "  <tbody>\n",
              "    <tr>\n",
              "      <th>170993</th>\n",
              "      <td>22464</td>\n",
              "      <td>14438</td>\n",
              "    </tr>\n",
              "    <tr>\n",
              "      <th>170994</th>\n",
              "      <td>22464</td>\n",
              "      <td>13642</td>\n",
              "    </tr>\n",
              "    <tr>\n",
              "      <th>170995</th>\n",
              "      <td>22464</td>\n",
              "      <td>13443</td>\n",
              "    </tr>\n",
              "    <tr>\n",
              "      <th>170996</th>\n",
              "      <td>22464</td>\n",
              "      <td>13085</td>\n",
              "    </tr>\n",
              "    <tr>\n",
              "      <th>170997</th>\n",
              "      <td>22464</td>\n",
              "      <td>12932</td>\n",
              "    </tr>\n",
              "    <tr>\n",
              "      <th>170998</th>\n",
              "      <td>22464</td>\n",
              "      <td>12677</td>\n",
              "    </tr>\n",
              "    <tr>\n",
              "      <th>170999</th>\n",
              "      <td>22464</td>\n",
              "      <td>10606</td>\n",
              "    </tr>\n",
              "    <tr>\n",
              "      <th>171000</th>\n",
              "      <td>22464</td>\n",
              "      <td>10203</td>\n",
              "    </tr>\n",
              "    <tr>\n",
              "      <th>171001</th>\n",
              "      <td>22464</td>\n",
              "      <td>9677</td>\n",
              "    </tr>\n",
              "    <tr>\n",
              "      <th>171002</th>\n",
              "      <td>22464</td>\n",
              "      <td>1987</td>\n",
              "    </tr>\n",
              "  </tbody>\n",
              "</table>\n",
              "</div>"
            ],
            "text/plain": [
              "        source_node  destination_node\n",
              "170993        22464             14438\n",
              "170994        22464             13642\n",
              "170995        22464             13443\n",
              "170996        22464             13085\n",
              "170997        22464             12932\n",
              "170998        22464             12677\n",
              "170999        22464             10606\n",
              "171000        22464             10203\n",
              "171001        22464              9677\n",
              "171002        22464              1987"
            ]
          },
          "metadata": {},
          "execution_count": 5
        }
      ]
    },
    {
      "cell_type": "code",
      "metadata": {
        "id": "6zBRbs1oErkZ",
        "colab": {
          "base_uri": "https://localhost:8080/"
        },
        "outputId": "e0bfac27-51b3-465a-bd1d-86f230d64fe1"
      },
      "source": [
        "# Displaying columns and row information of data-frame along with column-label information\n",
        "\n",
        "print(data_set.shape)\n",
        "print(data_set.columns)"
      ],
      "execution_count": 6,
      "outputs": [
        {
          "output_type": "stream",
          "name": "stdout",
          "text": [
            "(171003, 2)\n",
            "Index(['source_node', 'destination_node'], dtype='object')\n"
          ]
        }
      ]
    },
    {
      "cell_type": "code",
      "metadata": {
        "id": "Wdpdsy3bEwpx",
        "colab": {
          "base_uri": "https://localhost:8080/"
        },
        "outputId": "39ae9723-39f7-4641-8f45-a8529e9c0557"
      },
      "source": [
        "# Displaying detailed information on the data frame\n",
        "\n",
        "print(data_set.info())"
      ],
      "execution_count": 7,
      "outputs": [
        {
          "output_type": "stream",
          "name": "stdout",
          "text": [
            "<class 'pandas.core.frame.DataFrame'>\n",
            "RangeIndex: 171003 entries, 0 to 171002\n",
            "Data columns (total 2 columns):\n",
            " #   Column            Non-Null Count   Dtype\n",
            "---  ------            --------------   -----\n",
            " 0   source_node       171003 non-null  int64\n",
            " 1   destination_node  171003 non-null  int64\n",
            "dtypes: int64(2)\n",
            "memory usage: 2.6 MB\n",
            "None\n"
          ]
        }
      ]
    },
    {
      "cell_type": "code",
      "metadata": {
        "id": "9j3SuCAVFERT",
        "colab": {
          "base_uri": "https://localhost:8080/"
        },
        "outputId": "e036c8b9-f60b-49f0-f894-3e8d3be7cda1"
      },
      "source": [
        "# Checking for any null data points\n",
        "\n",
        "print(data_set[data_set.isna().any(1)])\n",
        "\n",
        "# Check for duplicate data points \n",
        "\n",
        "print(\"Number of duplicate entries: \", sum(data_set.duplicated()))"
      ],
      "execution_count": 8,
      "outputs": [
        {
          "output_type": "stream",
          "name": "stdout",
          "text": [
            "Empty DataFrame\n",
            "Columns: [source_node, destination_node]\n",
            "Index: []\n",
            "Number of duplicate entries:  0\n"
          ]
        }
      ]
    },
    {
      "cell_type": "code",
      "metadata": {
        "id": "MLF6AVv6Faqf",
        "colab": {
          "base_uri": "https://localhost:8080/"
        },
        "outputId": "3e05b432-264e-4777-a7da-5c10945dd586"
      },
      "source": [
        "# Saving the data frame into a new csv file without column label information\n",
        "\n",
        "data_set.to_csv('data_set.csv', header = False, index = False)\n",
        "print(\"Data Frame has been saved into new csv file\")"
      ],
      "execution_count": 9,
      "outputs": [
        {
          "output_type": "stream",
          "name": "stdout",
          "text": [
            "Data Frame has been saved into new csv file\n"
          ]
        }
      ]
    },
    {
      "cell_type": "code",
      "metadata": {
        "colab": {
          "base_uri": "https://localhost:8080/"
        },
        "id": "5xituI_LG1KJ",
        "outputId": "d267e982-474d-4cfb-ea07-f320dc8134d6"
      },
      "source": [
        "# Forming the directed graph from csv file using NetworkX library from python\n",
        "\n",
        "graph = nx.read_edgelist('data_set.csv', delimiter = ',', create_using = nx.DiGraph(), nodetype=int)\n",
        "print(nx.info(graph))"
      ],
      "execution_count": 10,
      "outputs": [
        {
          "output_type": "stream",
          "name": "stdout",
          "text": [
            "DiGraph with 22470 nodes and 171003 edges\n"
          ]
        }
      ]
    },
    {
      "cell_type": "code",
      "metadata": {
        "colab": {
          "base_uri": "https://localhost:8080/"
        },
        "id": "duM388XUG1PC",
        "outputId": "a4903d1e-b656-4370-e633-79a0fa1ec777"
      },
      "source": [
        "# Displaying properties for node number 14\n",
        "\n",
        "print(nx.info(graph,14))"
      ],
      "execution_count": 11,
      "outputs": [
        {
          "output_type": "stream",
          "name": "stdout",
          "text": [
            "Node 14 has the following properties:\n",
            "Degree: 55\n",
            "Neighbors: 22020 21323 21157 20655 20071 19837 18858 18512 18216 18062 17866 17325 16630 16534 15323 14666 14392 14164 13511 12017 11557 11332 11315 11034 10641 10622 10426 10418 10182 10109 9946 9745 9105 8389 8004 8002 7301 6037 5994 5822 5458 5398 4502 4328 3848 3695 3128 2904 2684 2327 2075 1943 1187 1041\n"
          ]
        }
      ]
    },
    {
      "cell_type": "markdown",
      "metadata": {
        "id": "KPSS-o3jBlux"
      },
      "source": [
        "**VISUALIZING A SUBGRAPH**"
      ]
    },
    {
      "cell_type": "code",
      "metadata": {
        "id": "T5ziArXwH4AD",
        "colab": {
          "base_uri": "https://localhost:8080/",
          "height": 768
        },
        "outputId": "3a789a30-98b6-4980-a7a7-606fc96e639d"
      },
      "source": [
        "#Plotting subgraph of first 100 entries in the data fram\n",
        "\n",
        "# Reading first 100 rows into new csv file and forming subgraph from it\n",
        "data_set[:100].to_csv('subgraph_data_set.csv', header = False, index = False)\n",
        "subgraph = nx.read_edgelist('subgraph_data_set.csv', delimiter =',',create_using = nx.DiGraph(), nodetype = int)\n",
        "\n",
        "\n",
        "# Plotting graph using matplotlib and networkx libraries\n",
        "plt.figure(figsize = (10, 10))\n",
        "pos = nx.spring_layout(subgraph)\n",
        "nx.draw(subgraph, pos, node_color = '#ABCB02', edge_color = '#00CC5D', width = 1, edge_cmap = plt.cm.Blues, with_labels = True)\n",
        "\n",
        "\n",
        "#Displaying properties of subgraph\n",
        "print(nx.info(subgraph))"
      ],
      "execution_count": 12,
      "outputs": [
        {
          "output_type": "stream",
          "name": "stdout",
          "text": [
            "DiGraph with 105 nodes and 100 edges\n"
          ]
        },
        {
          "output_type": "display_data",
          "data": {
            "image/png": "[encoded data removed]",
            "text/plain": [
              "<Figure size 720x720 with 1 Axes>"
            ]
          },
          "metadata": {}
        }
      ]
    },
    {
      "cell_type": "markdown",
      "metadata": {
        "id": "yt11KtkGJ-Nh"
      },
      "source": [
        "# **DATA ANALYSIS**"
      ]
    },
    {
      "cell_type": "code",
      "metadata": {
        "colab": {
          "base_uri": "https://localhost:8080/"
        },
        "id": "QFTNkwFpJ7Gn",
        "outputId": "1769ee71-2fe8-4a0f-eff8-95e2e190efd3"
      },
      "source": [
        "# Displaying number of Unique pages (nodes) in the graph\n",
        "\n",
        "print(\"The number of unique pages = \", len(graph.nodes()))  "
      ],
      "execution_count": 13,
      "outputs": [
        {
          "output_type": "stream",
          "name": "stdout",
          "text": [
            "The number of unique pages =  22470\n"
          ]
        }
      ]
    },
    {
      "cell_type": "markdown",
      "metadata": {
        "id": "PJQujH88P4hv"
      },
      "source": [
        "**FACEBOOK PAGE FOLLOWER ( Page A is liked by Page B ) LIKER ANALYSIS**"
      ]
    },
    {
      "cell_type": "code",
      "metadata": {
        "id": "yfdiRKBNOai5",
        "colab": {
          "base_uri": "https://localhost:8080/",
          "height": 405
        },
        "outputId": "ef713339-1358-46ae-b4d6-f2ef763a0600"
      },
      "source": [
        "#Displaing a distribution for the in-degree characteristics of the directed graph\n",
        "\n",
        "indegree_data = list(dict(graph.in_degree()).values())\n",
        "indegree_data.sort()\n",
        "plt.figure(figsize=(10, 6))\n",
        "plt.plot(indegree_data)\n",
        "plt.xlabel('Index Number')\n",
        "plt.ylabel('Number Of Likes from other pages')\n",
        "plt.show()\n",
        "print(len(indegree_data))"
      ],
      "execution_count": 14,
      "outputs": [
        {
          "output_type": "display_data",
          "data": {
            "image/png": "[encoded data removed]",
            "text/plain": [
              "<Figure size 720x432 with 1 Axes>"
            ]
          },
          "metadata": {
            "needs_background": "light"
          }
        },
        {
          "output_type": "stream",
          "name": "stdout",
          "text": [
            "22470\n"
          ]
        }
      ]
    },
    {
      "cell_type": "code",
      "metadata": {
        "id": "QjMN3SmTOf4r",
        "colab": {
          "base_uri": "https://localhost:8080/",
          "height": 388
        },
        "outputId": "3da8484e-b198-451c-dcdd-58eaea08bd90"
      },
      "source": [
        "# Displaying the in-degree for first 20000 nodes after sorting\n",
        "\n",
        "indegree_data = list(dict(graph.in_degree()).values()) \n",
        "indegree_data.sort()\n",
        "plt.figure(figsize=(10,6))\n",
        "plt.plot(indegree_data[:20000])\n",
        "plt.xlabel('Index Number')\n",
        "plt.ylabel('Number Of Likes from other pages ')\n",
        "plt.show()"
      ],
      "execution_count": 15,
      "outputs": [
        {
          "output_type": "display_data",
          "data": {
            "image/png": "[encoded data removed]",
            "text/plain": [
              "<Figure size 720x432 with 1 Axes>"
            ]
          },
          "metadata": {
            "needs_background": "light"
          }
        }
      ]
    },
    {
      "cell_type": "code",
      "metadata": {
        "id": "9Axux5bFcoZC",
        "colab": {
          "base_uri": "https://localhost:8080/",
          "height": 442
        },
        "outputId": "a7bbfd75-2034-46f4-a041-d0d50380cbdf"
      },
      "source": [
        "# Visualizing the distribution using seaborn\n",
        "\n",
        "import seaborn as sns\n",
        "sns.set_style('ticks')\n",
        "plt.figure(figsize = (12, 6))\n",
        "sns.distplot(indegree_data, color = '#16A085')\n",
        "plt.xlabel('Distribution plot of Indegree')\n",
        "sns.despine()"
      ],
      "execution_count": 16,
      "outputs": [
        {
          "output_type": "stream",
          "name": "stderr",
          "text": [
            "/usr/local/lib/python3.7/dist-packages/seaborn/distributions.py:2619: FutureWarning: `distplot` is a deprecated function and will be removed in a future version. Please adapt your code to use either `displot` (a figure-level function with similar flexibility) or `histplot` (an axes-level function for histograms).\n",
            "  warnings.warn(msg, FutureWarning)\n"
          ]
        },
        {
          "output_type": "display_data",
          "data": {
            "image/png": "[encoded data removed]",
            "text/plain": [
              "<Figure size 864x432 with 1 Axes>"
            ]
          },
          "metadata": {}
        }
      ]
    },
    {
      "cell_type": "code",
      "metadata": {
        "colab": {
          "base_uri": "https://localhost:8080/"
        },
        "id": "F6h6mpZTZvcJ",
        "outputId": "3a2cddaf-7d93-4a96-f506-4eea7b84f751"
      },
      "source": [
        "print('No. of pages having zero likes from other pages are', sum(np.array(indegree_data) == 0),\n",
        "      'and % is', sum(np.array(indegree_data) == 0)*100/len(indegree_data))"
      ],
      "execution_count": 17,
      "outputs": [
        {
          "output_type": "stream",
          "name": "stdout",
          "text": [
            "No. of pages having zero likes from other pages are 3827 and % is 17.031597685803295\n"
          ]
        }
      ]
    },
    {
      "cell_type": "markdown",
      "metadata": {
        "id": "ukgNgsbkdJLV"
      },
      "source": [
        "**FACEBOOK PAGE LIKES ( Page A likes Page B ) ANALYSIS**"
      ]
    },
    {
      "cell_type": "code",
      "metadata": {
        "id": "xU_FqtdXdRMP",
        "colab": {
          "base_uri": "https://localhost:8080/",
          "height": 388
        },
        "outputId": "29b9d27e-caea-427c-b397-d131f70141e5"
      },
      "source": [
        "# Displaing a distribution for the out-degree characteristics of the directed graph\n",
        "\n",
        "outdegree_data = list(dict(graph.out_degree()).values()) \n",
        "outdegree_data.sort()\n",
        "plt.figure(figsize = (10, 6))\n",
        "plt.plot(outdegree_data)\n",
        "plt.xlabel('Index Number')\n",
        "plt.ylabel('Number Of pages Liked')\n",
        "plt.show()"
      ],
      "execution_count": 18,
      "outputs": [
        {
          "output_type": "display_data",
          "data": {
            "image/png": "[encoded data removed]",
            "text/plain": [
              "<Figure size 720x432 with 1 Axes>"
            ]
          },
          "metadata": {}
        }
      ]
    },
    {
      "cell_type": "code",
      "metadata": {
        "id": "Pj7YdD4OdXY1",
        "colab": {
          "base_uri": "https://localhost:8080/",
          "height": 388
        },
        "outputId": "e5f09a98-3eab-4398-b5d1-6fa4c46a646f"
      },
      "source": [
        "outdegree_data = list(dict(graph.out_degree()).values())\n",
        "outdegree_data.sort()\n",
        "plt.figure(figsize=(10,6))\n",
        "plt.plot(outdegree_data[0:20000])\n",
        "plt.xlabel('Index Number')\n",
        "plt.ylabel('Number Of pages Liked')\n",
        "plt.show()"
      ],
      "execution_count": 19,
      "outputs": [
        {
          "output_type": "display_data",
          "data": {
            "image/png": "[encoded data removed]",
            "text/plain": [
              "<Figure size 720x432 with 1 Axes>"
            ]
          },
          "metadata": {}
        }
      ]
    },
    {
      "cell_type": "code",
      "metadata": {
        "colab": {
          "base_uri": "https://localhost:8080/"
        },
        "id": "dwPes-v9diHY",
        "outputId": "82c2358f-3e85-4b45-9b18-f6d2fac3ad24"
      },
      "source": [
        "print('No. of pages that have not liked any page ', sum(np.array(outdegree_data)==0),\n",
        "      'and % is', sum(np.array(outdegree_data)==0)*100/len(outdegree_data) )"
      ],
      "execution_count": 20,
      "outputs": [
        {
          "output_type": "stream",
          "name": "stdout",
          "text": [
            "No. of pages that have not liked any page  4113 and % is 18.30440587449933\n"
          ]
        }
      ]
    },
    {
      "cell_type": "markdown",
      "metadata": {
        "id": "8eyLGQJdC_4T"
      },
      "source": [
        "# **GENERATING THE ML PROBLEM**"
      ]
    },
    {
      "cell_type": "markdown",
      "metadata": {
        "id": "62kuozzPh9EJ"
      },
      "source": [
        "**CREATING DATASET WITH LINKS THAT DO NOT EXIST IN THE GRAPH AND HAVE SHORTEST PATH >= 2**\n",
        "**(i.e path between page A and page B is > 2 implies that page A has a lower probability to \"like\" page B)**"
      ]
    },
    {
      "cell_type": "code",
      "metadata": {
        "id": "JcH6tuhlimrY"
      },
      "source": [
        "import pickle\n",
        "import csv\n",
        "\n",
        "#Introducing an eqaul number of missing edges (bad links) into a new data set\n",
        "\n",
        "#Creating a dictionary to store existing edges \n",
        "file = csv.reader(open('data_set.csv', 'r'))\n",
        "edges = dict()\n",
        "for edge in file:\n",
        "    edges[(edge[0], edge[1])] = 1\n",
        "\n",
        "#Generating a random list of edges that do not exist in the original graph\n",
        "# and the length between 2 nodes is greater than or equal to 2\n",
        "\n",
        "absent_edges = set([])\n",
        "while (len(absent_edges) < 171002):\n",
        "    nodei = random.randint(0, 22469)\n",
        "    nodej = random.randint(0, 22469)\n",
        "    temp = edges.get((nodei, nodej), -1)\n",
        "\n",
        "    if temp == -1 and nodei != nodej:\n",
        "        try:\n",
        "            if nx.shortest_path_length(g, source = nodei, target = nodej) >= 2:\n",
        "                absent_edges.add((nodei, nodej))\n",
        "            else:\n",
        "                continue\n",
        "        except:\n",
        "            absent_edges.add((nodei, nodej))\n",
        "    else:\n",
        "        continue\n",
        "\n",
        "# We take a pickle dump of the missing edges (bad links) \n",
        "pickle.dump(absent_edges, open('absent_edges_final.p','wb'))"
      ],
      "execution_count": 21,
      "outputs": []
    },
    {
      "cell_type": "code",
      "metadata": {
        "id": "OrNaZsK0l2Hj",
        "colab": {
          "base_uri": "https://localhost:8080/"
        },
        "outputId": "d5a191d7-8422-4ac5-f7e5-e86eda948702"
      },
      "source": [
        "# Displaing number of missing edges formed\n",
        "\n",
        "len(absent_edges)"
      ],
      "execution_count": 22,
      "outputs": [
        {
          "output_type": "execute_result",
          "data": {
            "text/plain": [
              "171002"
            ]
          },
          "metadata": {},
          "execution_count": 22
        }
      ]
    },
    {
      "cell_type": "markdown",
      "metadata": {
        "id": "lg3N8Kd8T8Xu"
      },
      "source": [
        "**TRAIN-TEST SPLIT AND ANALYSIS**"
      ]
    },
    {
      "cell_type": "code",
      "metadata": {
        "id": "gP9LzEyAS9Fg",
        "colab": {
          "base_uri": "https://localhost:8080/"
        },
        "outputId": "e620ab83-167d-4771-f963-9cfdff1fbb9b"
      },
      "source": [
        "# Reading the pickle dump into the absent_edges variable\n",
        "absent_edges = pd.read_pickle('absent_edges_final.p')\n",
        "\n",
        "# Generating 2 data frames for storing original edges and missing edges\n",
        "df_orig = data_set[:]\n",
        "df_msng = pd.DataFrame(list(absent_edges), columns = ['source_node', 'destination_node'])\n",
        "\n",
        "print(\"Number of edges in the original data set:\", df_orig.shape[0])\n",
        "print(\"Number of missing edges in the newly created data set:\", df_msng.shape[0])\n",
        "\n",
        "''' Performing a Train-Test split (80 - 20) to split data into testing and training data\n",
        "   Positive Links (Original Edges) and Negative Links (Missing Edges) are split separately\n",
        "   since only the positive training data will be used in feature training '''\n",
        "\n",
        "#Importing the train_test_split function \n",
        "from sklearn.model_selection import train_test_split\n",
        "\n",
        "#Splitting the data set into train and test sets on 80-20 split\n",
        "Xtrain_orig, Xtest_orig, ytrain_orig, ytest_orig  = train_test_split(df_orig, np.ones(len(df_orig)), test_size = 0.2, random_state = 101)\n",
        "Xtrain_msng, Xtest_msng, ytrain_msng, ytest_msng  = train_test_split(df_msng, np.zeros(len(df_msng)), test_size = 0.2, random_state = 101)\n",
        "\n",
        "print('- '*60)\n",
        "print(\"Number of original edges in the train data set of the form (Xtrain_orig, ytrain_orig):\", (Xtrain_orig.shape[0], ytrain_orig.shape[0]))\n",
        "print(\"Number of missing edges in the train data set of the form (Xtrain_msng, ytrain_msng):\", (Xtrain_msng.shape[0], ytrain_msng.shape[0]))\n",
        "print('- '*60)\n",
        "print(\"Number of original edges in the test data set of the form (Xtest_orig, ytest_orig):\", (Xtest_orig.shape[0], ytest_orig.shape[0]))\n",
        "print(\"Number of missing in the test data set of the form (Xtest_msng, ytest_msng):\", (Xtest_msng.shape[0], ytest_msng.shape[0]))\n",
        "\n",
        "# Saving the data sets found into new csv files\n",
        "\n",
        "Xtrain_orig.to_csv('split_train_orig.csv', header = False, index = False)\n",
        "Xtest_orig.to_csv('split_test_orig.csv', header = False, index = False)\n",
        "Xtrain_msng.to_csv('split_train_msng.csv', header = False, index = False)\n",
        "Xtest_msng.to_csv('split_test_msng.csv', header = False, index = False)"
      ],
      "execution_count": 23,
      "outputs": [
        {
          "output_type": "stream",
          "name": "stdout",
          "text": [
            "Number of edges in the original data set: 171003\n",
            "Number of missing edges in the newly created data set: 171002\n",
            "- - - - - - - - - - - - - - - - - - - - - - - - - - - - - - - - - - - - - - - - - - - - - - - - - - - - - - - - - - - - \n",
            "Number of original edges in the train data set of the form (Xtrain_orig, ytrain_orig): (136802, 136802)\n",
            "Number of missing edges in the train data set of the form (Xtrain_msng, ytrain_msng): (136801, 136801)\n",
            "- - - - - - - - - - - - - - - - - - - - - - - - - - - - - - - - - - - - - - - - - - - - - - - - - - - - - - - - - - - - \n",
            "Number of original edges in the test data set of the form (Xtest_orig, ytest_orig): (34201, 34201)\n",
            "Number of missing in the test data set of the form (Xtest_msng, ytest_msng): (34201, 34201)\n"
          ]
        }
      ]
    },
    {
      "cell_type": "code",
      "metadata": {
        "id": "6mxCfTevU1QR",
        "colab": {
          "base_uri": "https://localhost:8080/"
        },
        "outputId": "8cc29480-aeab-4232-bbc0-da1996dd5bc9"
      },
      "source": [
        "#Forming the train and test graph using csv files created\n",
        "\n",
        "train_graph = nx.read_edgelist('split_train_orig.csv', delimiter=',',create_using = nx.DiGraph(), nodetype = int)\n",
        "test_graph = nx.read_edgelist('split_test_orig.csv', delimiter=',',create_using = nx.DiGraph(), nodetype = int)\n",
        "\n",
        "#Displaying the train and test graph information\n",
        "\n",
        "print(\"train_graph\\n\")\n",
        "print(nx.info(train_graph))\n",
        "print(\"- \"*30) \n",
        "\n",
        "print(\"test_graph\\n\")\n",
        "print(nx.info(test_graph))\n",
        "print(\"- \"*30) \n",
        "\n",
        "# Finding and displaing pages(nodes) that are unique to both train and test graph\n",
        "train_nodes_orig = set(train_graph.nodes())\n",
        "test_nodes_orig = set(test_graph.nodes())\n",
        "\n",
        "common = len(train_nodes_orig.intersection(test_nodes_orig))\n",
        "only_train = len(train_nodes_orig - test_nodes_orig)\n",
        "only_test = len(test_nodes_orig - train_nodes_orig)\n",
        "\n",
        "print('no. of Nodes (pages) common in train and test -- ',common)\n",
        "print('no. of Nodes (pages) present in train but not in test -- ',only_train)\n",
        "print('no. of Nodes (pages) present in test but not in train -- ',only_test)\n",
        "print('% of Users not there in Train but exist in Test {} %'.format(only_test/len(test_nodes_orig)*100))"
      ],
      "execution_count": 24,
      "outputs": [
        {
          "output_type": "stream",
          "name": "stdout",
          "text": [
            "train_graph\n",
            "\n",
            "DiGraph with 21836 nodes and 136802 edges\n",
            "- - - - - - - - - - - - - - - - - - - - - - - - - - - - - - \n",
            "test_graph\n",
            "\n",
            "DiGraph with 15924 nodes and 34201 edges\n",
            "- - - - - - - - - - - - - - - - - - - - - - - - - - - - - - \n",
            "no. of Nodes (pages) common in train and test --  15290\n",
            "no. of Nodes (pages) present in train but not in test --  6546\n",
            "no. of Nodes (pages) present in test but not in train --  634\n",
            "% of Users not there in Train but exist in Test 3.981411705601608 %\n"
          ]
        }
      ]
    },
    {
      "cell_type": "code",
      "metadata": {
        "id": "_gb3w7sBbc-n",
        "colab": {
          "base_uri": "https://localhost:8080/"
        },
        "outputId": "931c479a-8fb6-4d27-a8d4-feb3b99fb398"
      },
      "source": [
        "# Storing the Train and Test Data into csv files\n",
        "\n",
        "Xtrain = Xtrain_orig.append(Xtrain_msng, ignore_index = True) \n",
        "ytrain = np.concatenate((ytrain_orig, ytrain_msng))\n",
        "Xtest = Xtest_orig.append(Xtest_msng, ignore_index = True)\n",
        "ytest = np.concatenate((ytest_orig, ytest_msng)) \n",
        "    \n",
        "print(\"Data points in train data set:\", Xtrain.shape)\n",
        "print(\"Data points in test data set:\", Xtest.shape)\n",
        "print(\"Target variable feature in Train:\", ytrain.shape)\n",
        "print(\"Target variable feature in Test:\", ytest.shape)\n",
        "\n",
        "Xtrain.to_csv('train_X.csv', header = False, index = False)\n",
        "Xtest.to_csv('test_X.csv', header = False, index = False)\n",
        "pd.DataFrame(ytrain.astype(int)).to_csv('train_y.csv', header = False, index = False)\n",
        "pd.DataFrame(ytest.astype(int)).to_csv('test_y.csv', header = False, index = False)"
      ],
      "execution_count": 25,
      "outputs": [
        {
          "output_type": "stream",
          "name": "stdout",
          "text": [
            "Data points in train data set: (273603, 2)\n",
            "Data points in test data set: (68402, 2)\n",
            "Target variable feature in Train: (273603,)\n",
            "Target variable feature in Test: (68402,)\n"
          ]
        }
      ]
    },
    {
      "cell_type": "markdown",
      "metadata": {
        "id": "pwY5ybShhlnW"
      },
      "source": [
        "# **FEATURES DEFINITION**"
      ]
    },
    {
      "cell_type": "markdown",
      "metadata": {
        "id": "Jhi2hjO0ho0P"
      },
      "source": [
        "**SIMILARITY MEASURES**\n",
        "\n",
        "**JACCARD INDEX**\n",
        "\n",
        "![image.png](data:image/png;base64,iVBORw0KGgoAAAANSUhEUgAAANoAAABZCAYAAABYOTqtAAANJElEQVR4Ae1dS2vbWBue/6SVFoZAwJCFV/EmgkBNF2MGagjEFGq6+EIheKCYLEIWJQPFFGoGPpxFUaF4oOBCcBdBAwUHigMBLwKCgiELgeEZjqQj63Jky9YlivIGgnU5OpfnnOdc38tvoD9CgBBIHYHfUk+BEiAECAEQ0agREAIZIEBEywBkSoIQIKJRGyAEMkCAiJYByJQEIUBEozZACGSAABEtA5ApCUKAiEZtgBDIAAEiWgYgUxKEABGN2gAhkAECRLQMQKYkCAEiGrUBQiADBIhoGYBMSRACRDRqA4RABggQ0TIAmZIgBIhoUdvA/Rjq12nU0GuGMzD53MfozljzOx58hvGnPkY6v3/kv/cTqBcj6GvDYUC/7EP9ufrD6VcV4/vscCKiRcX6qgPpRR+8LesXDUiSFP3/RAtJyYB2pmDroI/pPCRIhMfGVQfV7SbUtPqCFXlIDI97Dad7W2hcbFiQaR+NbQWnV8vIpqP/QkLnakWhEnxNRIsKpo9ozme3PdRtwtX/720chj7B8KwGmb1/O3I+cV/onxqQS20ME+hdJx9rkHY70BKIy53Hta5j4aFDPZAhHw+xjCar8mN8a0MuNdD3VofrMyKaC4ycXYYR7a6Phk20xgUf79x5NzA8lj2jofP2TkWjJKH5eeY8inUxH+O8IqFyosVqqLHyEAMPs9ORmlB/xcoBgBnUl5IYczNqIlpchNP7fmOiAayHlSrnGHtyZ0A7qUAqdaDFmDJ6ogRgTeFq6N363yy5n88w+dpD+1BBdbcKZV+x/vcUNI97GN6s0RGsJFoIHoaGTkWCHDrFXpJ/0aurDmRJRvtSNDYS0USQ5eNZDKLBbHwdeFZpswFakoTKOy/9Yhf2l4rmOvFOBzja24Lypgft1tco5waml1202Pu3Q+hROoQIRBPhMfvSgiRVcP4jNgJWBPboLr1UEewmiGgJoZxCNHGINh+hIzWgumaWVsOS0PmedF6n6P8uCUZQQTrzCXrPZDR8a8tAyPkU/QMZtY+TwKvAgyhEC+Axw+AV21jqYBSFzIFExQ9Gb1mcLQwCTCOiiRHLw9M4RAvkn63bWCPwks8bzMDkoo36noLqThnVw3OM7mbQ3jfM6V15p4b2F/FqXzuTIUkKejfeGAN3bHq130ME+gA3PShRprlRiObPiDFEm61zD1RnV9cbxMKitltGebuMxoexdw06HaD9RxPda++IzNZ8bGe4/c37HCCiefHN012iRLM2LVgP7plOOuVlW/5VVP+nWlv+fBokSZDZMcAtm+4xMol6a75OEzUwJwHzwlzPRV4Taeao3L/zxhG424Ro1+eoMKKF5MXcRXzRw3RuEcRfbmvkEswOWJ1JEpTASExEC9Rbbh4kSTRz6iRB+r0P4Zh020Ot0oHmdMScmNYaxjmzYhssoqnWd6uBiXdBF4jmhmh2fv3HI1ZOp+g9s9dufOQrtTEKYCOYHUz71tFLgMBEtEUryNtVkkTjvb7rANxd3NlVD6f/uCioq9YRAp+6zXWMLzVMAmsPOxa7Jw8bIXhaeSEa7ziEHcNMQ+9sgMkcmH1umiOU/OdoMXVkU1o2GoqmwKE4E9F4G8jfb4ZE8xfePB5gjenVQLCD5g8NoEhEc4pnn41Jskeig28qCY8FiGgOeo/n4gGJNv6rYvbk4qmVAMIiEs0+DvGfO/L1WeuLYHgnogkaR94fJUk0sI2FJWs0z9Rwgt4+26Gs4Px6AVJgerl4BTy2NZrdMSztSHjn4RnV+dq1AeEmDa3R3K3ikVwnSjROHtGuo4HRn2xH0d6F472y1MaQbwDY519H/wh6cUc6RIKwl3fBnZc1mnl0wMvryp/nkhPNvbHBiRSQurG/tL+p/OUXCqA1mgfbXN2EEc0tRPu3awNjaeaXnaMxwVoJ0nYd3R86tJMq5BIj3pEleDyfYcSeLZH2j3qOlgrRNsGD7yaGnqMBsCVeHA2KmYbz51aHJFyfsQ6HztGWtsJ8vvQRje+UhanKrFLB4It4kWSI8aOL+vYWqrtlKG9UTH+N0T0oQ96umofXjXejJeJQ0SVDkiRaPDyiSYbo38/R3N3C1q4CZa+B2h6bUoeP3CQZkk8qLc+Vj2jLA0d4u65MYoQozSA83sB0KRiBcTNA/0o8/QyGnkG7GGDCp6/BALGeWFv34bKOs5sxJm6pfmOEdokRLUTanx/ye9Z0PIs0deRI5O83aaLBXovxs7GESmyNLCGbAwmlkUo0NnFE08Dp3zVrzVo6dSRpTN07SQ5XEDWl9yvoCBVAiWip1GEikSZONMCSYk9eH6169oD6aDHAtjqJ4AhlHW9UcWTLdk4/H6EqyVDORpiJJGNsfTQ5dM1HRItRTSl/mgbRAEwvktawPnWJbqWMSdLR21oCAQ3r+wn6xzWUdxQoTF/usAP1OnzKyzWs1VC5TCJa0lWXXHwpEQ0ohs2QxIAmmyGJQfk4I7qfQrt2KZQlWgqyguWBMwMrWPq1hmmGtlXIOI+nhumGEEgHgc2JxqSqX7N5cxXVbRnl520Mop7XplMWipUQyC0CmxGNnVHs2kqIbNdnrkN9LUeXLk8ADuPqdGFEhhuTifjb+Ra+kE4gaxQFIRBAYCOiWYeLCro/7fjuVDS3JUiuc45ASvSAEHjCCGxANC4uU8HpvzZydypa+/VQGxaPFd8w8Sp6bok+FQ2HNNvpBkRzSZczGxY7lu2/wth9TxNtivvJIrAB0QDcj9E9VFA2Zc3s3s1jxyF9PGmNlj7GlEJyCKxJNGZQs4/+16ljs8HQR+jsWmRbSKwbGL9vonncRn1HwdFZB83DJuqVhQVdJqHePKyjVnKt9W56aO43oa5jZTc5LCgmQsCLgD5C7+wUve/xz0/XIppx2bYcNvjMnPnVEZgKSO2dZXtPO2GbJA2on05NE82msiIz//yshcGNZc+vZutxmTJtpSOBwUtv+emOEEgfAVsvkCmkLrW/GS0nGxCtiva3BcNn1z00Sm4paibl0MXQlDOzM8usPZnq+WNLj0ofoftpDJ2ZgWYktMMyVzqOYl+0/FMoQiA1BPTPLZRLMsqvwgy7Rk96LaIxuTzTeu5uFVV2ZrWnQPmjjd6/C+J5krY1Z6tC3Shr99KRsLaNr4jDemJ9mBtyRJgd7hmIYBXDEeHdGBrzQGJaoK2gbR8QT770ofGzYpuEji0/W3+Ih82uViOm5BMqXqVRHNj6dtu68CRZDKHixPAgoWJP61hyo+GU7UbunqP/QTFtwHeZDfj7Idp7LhUO2yio5RvMwOgtM6kW1EVaklC2r3xEcxJ328jwOYsgR4RembzVeJAjQqddrb7Qob7cgnLQRONNF+evylAO22gdttD74daDZzuTdWztNtF+XcMWW3Q+64lNZK9ONP0QYURzrFRJcEZnT27y64jQuFbRda23PdkO3OgYvlcxdldhIMxCmZWN6OviQY4IRYDGfGbcahhd2ccEzNa8JKH2IZJfk5gpb/j5xkQLcbzH9NAe2BGhOd0LndL6cUrOyYXQMSM5IvQDnsQ9n16eQru3fG/Jz88xzlA/aO1SxCCayPEecuCI8KGIJsLDsgoWbpxn7frixnmetiNCA+MPddQOO2gfKGicqBjzTZK1Ec3ogzhECzjeA5aZm4tXoocxN+fkeeVUmml7+B0zcvlZckTo4PhkL+IQLQDaMgOqPHD6jggfbETjReS/Kw2okiNCDlXxfxMlGrcZLzIJzqAkR4TuBkWOCN1oFP06SaKRI0JvayFHhF48nvRdkkTj6xhyRGg2KX7YLTwOIEeET4x2GRLNjyw5ImSIkCNCf7so5v0DEo0cETKeDdBiQg0+E+rkiLBodEuSaDlxRMhc8Mr7XdM/9Mrq+tmF4mvkwm/4tDhUMkTwFcNWkkCOCAXYPLlHiRItH44IYTs0bPhkNAN1a5vqrn2MILmzCdG4w/dlUio2GSV3GHJEGKiqx/8gjGhuoeJH5ojQrBTTod8WlDc9aLc+QUZjhullF629LShvh0t8srmqdxM8Vp6jkSNCF8IFv/QRje+UBdRhTI1cCQuzDmJclkmGZOWI0J0z/aqP7nHTdCJh6hoyZxL7dbTO+tCmPgK6P7Sv4+ERTTKEHBEKgC/cIx/RYpePOwx85/evHDNmHq9Q2TZm3Cl+To4IUwT3UUWdNNHIEaG3+skRoRePJ3uXONEWuluW8msCyNoS6+SI0Dpzc8xkBKAl/2gBSHLzIA2ikSNCb/WSI0IvHk/yLiWikSNCX2simyE+QJ7aLTkizK7GM7CCRY4Is6tOSokQyAyBNe06ZpYvSogQKBQCRLRCVScVJq8IENHyWjOUr0IhQEQrVHVSYfKKABEtrzVD+SoUAkS0QlUnFSavCBDR8lozlK9CIUBEK1R1UmHyigARLa81Q/kqFAJEtEJVJxUmrwgQ0fJaM5SvQiFARCtUdVJh8ooAES2vNUP5KhQCRLRCVScVJq8IENHyWjOUr0IhQEQrVHVSYfKKwH/PA8QFs5QJogAAAABJRU5ErkJggg==)"
      ]
    },
    {
      "cell_type": "code",
      "metadata": {
        "id": "UxKwLKzuie_F"
      },
      "source": [
        "# Jaccard index for page likes  \n",
        "\n",
        "def jaccard_for_likes(a, b):\n",
        "    try:\n",
        "        if len(set(train_graph.predecessors(a))) == 0  | len(set(train_graph.predecessors(b))) == 0:\n",
        "            return 0\n",
        "        sim = (len(set(train_graph.predecessors(a)).intersection(set(train_graph.predecessors(b)))))/\\\n",
        "                                 (len(set(train_graph.predecessors(a)).union(set(train_graph.predecessors(b)))))\n",
        "        return sim\n",
        "    except:\n",
        "        return 0"
      ],
      "execution_count": 26,
      "outputs": []
    },
    {
      "cell_type": "code",
      "metadata": {
        "colab": {
          "base_uri": "https://localhost:8080/"
        },
        "id": "jyobXBxrhE_z",
        "outputId": "3f99aa9c-0fce-4e7d-b52e-f33164f9ab2e"
      },
      "source": [
        "# TEST CASE\n",
        "# No common in-degrees between 0 and 18427\n",
        "print(jaccard_for_likes(0,18427))\n",
        "\n",
        "# common in-degrees between 22405 and 22265 (ex: 1)\n",
        "print(jaccard_for_likes(22405,22265))"
      ],
      "execution_count": 27,
      "outputs": [
        {
          "output_type": "stream",
          "name": "stdout",
          "text": [
            "0.0\n",
            "0.030927835051546393\n"
          ]
        }
      ]
    },
    {
      "cell_type": "code",
      "metadata": {
        "id": "voI5k7W_ihRe"
      },
      "source": [
        "# Jaccard index for page liked \n",
        "\n",
        "def jaccard_for_liked(a, b):\n",
        "    try:\n",
        "        if len(set(train_graph.successors(a))) == 0  | len(set(train_graph.successors(b))) == 0:\n",
        "            return 0\n",
        "        sim = (len(set(train_graph.successors(a)).intersection(set(train_graph.successors(b)))))/\\\n",
        "                                    (len(set(train_graph.successors(a)).union(set(train_graph.successors(b)))))\n",
        "    except:\n",
        "        return 0\n",
        "    return sim"
      ],
      "execution_count": 28,
      "outputs": []
    },
    {
      "cell_type": "code",
      "metadata": {
        "colab": {
          "base_uri": "https://localhost:8080/"
        },
        "id": "5A8ogvMroO0Y",
        "outputId": "c9796842-b318-4e21-b19a-a910612bccf6"
      },
      "source": [
        "# TEST CASE\n",
        "# No common out-degrees between 0 and 13262\n",
        "print(jaccard_for_liked(0,133262))\n",
        "\n",
        "# common out-degrees between 126 and 4601 (ex: 6353)\n",
        "print(jaccard_for_liked(126,4601))"
      ],
      "execution_count": 29,
      "outputs": [
        {
          "output_type": "stream",
          "name": "stdout",
          "text": [
            "0\n",
            "0.18181818181818182\n"
          ]
        }
      ]
    },
    {
      "cell_type": "markdown",
      "metadata": {
        "id": "pyHBOvd0kTS4"
      },
      "source": [
        "**SALTON COSINE INDEX**\n",
        "\n",
        "  \n",
        "![image.png](data:image/png;base64,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)"
      ]
    },
    {
      "cell_type": "code",
      "metadata": {
        "id": "sQiEnFoFmCPP"
      },
      "source": [
        "# Salton Cosine Index for page likes\n",
        "import math\n",
        "\n",
        "def cosine_for_likes(a, b):\n",
        "    try:  \n",
        "        if len(set(train_graph.predecessors(a))) == 0  | len(set(train_graph.predecessors(b))) == 0:\n",
        "            return 0\n",
        "        sim = (len(set(train_graph.predecessors(a)).intersection(set(train_graph.predecessors(b)))))/\\\n",
        "                                     (math.sqrt((len(set(train_graph.predecessors(a))))*(len(set(train_graph.predecessors(b))))))\n",
        "        return sim\n",
        "    except:\n",
        "        return 0"
      ],
      "execution_count": 30,
      "outputs": []
    },
    {
      "cell_type": "code",
      "metadata": {
        "colab": {
          "base_uri": "https://localhost:8080/"
        },
        "id": "q1cAMu-so98_",
        "outputId": "9a59380a-d8e4-45d0-b384-90755244d8b5"
      },
      "source": [
        "# TEST CASE\n",
        "# No common in-degrees between 0 and 13262\n",
        "print(cosine_for_likes(0,13262))\n",
        "\n",
        "# common in-degrees between 22405 and 22265 (ex: 1)\n",
        "print(cosine_for_likes(22405,22265))"
      ],
      "execution_count": 31,
      "outputs": [
        {
          "output_type": "stream",
          "name": "stdout",
          "text": [
            "0\n",
            "0.1\n"
          ]
        }
      ]
    },
    {
      "cell_type": "code",
      "metadata": {
        "id": "e3bJr5lRmE1N"
      },
      "source": [
        "# Salton Cosine Index for pages liked\n",
        "\n",
        "def cosine_for_liked(a,b):\n",
        "    try:\n",
        "        if len(set(train_graph.successors(a))) == 0  | len(set(train_graph.successors(b))) == 0:\n",
        "            return 0\n",
        "        sim = (len(set(train_graph.successors(a)).intersection(set(train_graph.successors(b)))))/\\\n",
        "                                    (math.sqrt(len(set(train_graph.successors(a)))*len((set(train_graph.successors(b))))))\n",
        "        return sim\n",
        "    except:\n",
        "        return 0"
      ],
      "execution_count": 32,
      "outputs": []
    },
    {
      "cell_type": "code",
      "metadata": {
        "colab": {
          "base_uri": "https://localhost:8080/"
        },
        "id": "3s-YAEH7pyY9",
        "outputId": "5a60bee2-74c5-4b54-aa1b-b476461c7816"
      },
      "source": [
        "# TEST CASE\n",
        "# No common out-degrees between 0 and 13262\n",
        "print(cosine_for_liked(0,13262))\n",
        "\n",
        "# common out-degrees between 126 and 4601 (ex: 6353)\n",
        "print(cosine_for_liked(126,4601))"
      ],
      "execution_count": 33,
      "outputs": [
        {
          "output_type": "stream",
          "name": "stdout",
          "text": [
            "0.0\n",
            "0.31622776601683794\n"
          ]
        }
      ]
    },
    {
      "cell_type": "markdown",
      "metadata": {
        "id": "P2gCj8ptmg4U"
      },
      "source": [
        "**PREFERENTIAL ATTACHEMENT INDEX**\n",
        "\n",
        "![image.png](data:image/png;base64,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)"
      ]
    },
    {
      "cell_type": "code",
      "metadata": {
        "id": "oysSR0qQmk_a"
      },
      "source": [
        "# Preferential Attachment Index for page likes\n",
        "\n",
        "def prefer_attach_likes(a, b):\n",
        "    try: \n",
        "        pa = (len(set(train_graph.predecessors(a))))*(len(set(train_graph.predecessors(b))))\n",
        "        return pa\n",
        "    except:\n",
        "        return 0"
      ],
      "execution_count": 34,
      "outputs": []
    },
    {
      "cell_type": "code",
      "metadata": {
        "colab": {
          "base_uri": "https://localhost:8080/"
        },
        "id": "uwFXS5lVsZIK",
        "outputId": "8e9d566e-415b-4a49-bc7d-306d68dea081"
      },
      "source": [
        "print(prefer_attach_likes(16590,16260))"
      ],
      "execution_count": 35,
      "outputs": [
        {
          "output_type": "stream",
          "name": "stdout",
          "text": [
            "312\n"
          ]
        }
      ]
    },
    {
      "cell_type": "code",
      "metadata": {
        "id": "SR80gtgAnTKl"
      },
      "source": [
        "# Preferential Attachment Index for pages liked\n",
        "\n",
        "def prefer_attach_liked(a, b):\n",
        "    try: \n",
        "        pa = (len(set(train_graph.successors(a))))*(len(set(train_graph.successors(b))))\n",
        "        return pa\n",
        "    except:\n",
        "        return 0"
      ],
      "execution_count": 36,
      "outputs": []
    },
    {
      "cell_type": "code",
      "metadata": {
        "colab": {
          "base_uri": "https://localhost:8080/"
        },
        "id": "aJbnLEIkspTF",
        "outputId": "f8849641-002d-4641-d369-5646ebf8b6ac"
      },
      "source": [
        "print(prefer_attach_liked(5,40))"
      ],
      "execution_count": 37,
      "outputs": [
        {
          "output_type": "stream",
          "name": "stdout",
          "text": [
            "64\n"
          ]
        }
      ]
    },
    {
      "cell_type": "markdown",
      "metadata": {
        "id": "VFUwL4MMiUO_"
      },
      "source": [
        "**ADAMIC-ADAR INDEX**\n",
        "\n",
        "![image.png](data:image/png;base64,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)"
      ]
    },
    {
      "cell_type": "code",
      "metadata": {
        "id": "OnHXUrNHiyk0"
      },
      "source": [
        "def adamic_adar_index(a,b):\n",
        "    sum = 0\n",
        "    try:\n",
        "        n = list(set(train_graph.successors(a)).intersection(set(train_graph.successors(b)))) \n",
        "        if len(n)!= 0:\n",
        "            for i in n:\n",
        "                sum = sum + (1/np.log10(len(list(train_graph.predecessors(i))))) \n",
        "            return sum\n",
        "        else:\n",
        "            return 0\n",
        "    except:\n",
        "        return 0"
      ],
      "execution_count": 38,
      "outputs": []
    },
    {
      "cell_type": "code",
      "metadata": {
        "colab": {
          "base_uri": "https://localhost:8080/"
        },
        "id": "l8uU2GZ-tyW-",
        "outputId": "bfc5ab30-7620-413b-947e-65777b969525"
      },
      "source": [
        "print(adamic_adar_index(160,170))"
      ],
      "execution_count": 39,
      "outputs": [
        {
          "output_type": "stream",
          "name": "stdout",
          "text": [
            "4.3810004832278535\n"
          ]
        }
      ]
    },
    {
      "cell_type": "markdown",
      "metadata": {
        "id": "bZ9DSDo2ht35"
      },
      "source": [
        "**LIKES BACK OR NOT**"
      ]
    },
    {
      "cell_type": "code",
      "metadata": {
        "id": "iIW_SSdWhRWU"
      },
      "source": [
        "def likes_back(a,b):\n",
        "    if train_graph.has_edge(b,a):\n",
        "        return 1\n",
        "    else:\n",
        "        return 0"
      ],
      "execution_count": 70,
      "outputs": []
    },
    {
      "cell_type": "code",
      "metadata": {
        "colab": {
          "base_uri": "https://localhost:8080/"
        },
        "id": "IYCB8EjmhWSB",
        "outputId": "9ee708b9-d186-45f8-d07c-0e4de1d9ea32"
      },
      "source": [
        "# testing \n",
        "print(likes_back(1,189226))\n",
        "print(likes_back(669354,1635354))"
      ],
      "execution_count": 71,
      "outputs": [
        {
          "output_type": "stream",
          "name": "stdout",
          "text": [
            "0\n",
            "0\n"
          ]
        }
      ]
    },
    {
      "cell_type": "markdown",
      "metadata": {
        "id": "KqQQ6zUUhx-B"
      },
      "source": [
        "**CHECK IF SOURCE AND DESTINATION ARE PART OF SAME COMMUNITY**"
      ]
    },
    {
      "cell_type": "code",
      "metadata": {
        "id": "4tLx04sqhyhQ"
      },
      "source": [
        "wcc = list(nx.weakly_connected_components(train_graph))\n",
        "\n",
        "def same_comm(a,b):\n",
        "    ''' This function returns 1 if src and dest belong to same community else 0'''\n",
        "    index = []\n",
        "    # if there is also an edge from b to a then a and b already belong to same community \n",
        "    if train_graph.has_edge(b,a):  \n",
        "        return 1\n",
        "    if train_graph.has_edge(a,b):\n",
        "        for i in wcc:\n",
        "            if a in i:\n",
        "                index = i\n",
        "                break\n",
        "        if (b in index):\n",
        "            train_graph.remove_edge(a,b)\n",
        "            if belongs_to_same_wcc(a,b) == -1:\n",
        "                train_graph.add_edge(a,b)\n",
        "                return 0\n",
        "            else:\n",
        "                train_graph.add_edge(a,b)\n",
        "                return 1\n",
        "        else:\n",
        "            return 0\n",
        "    else:\n",
        "        for i in wcc:\n",
        "            if a in i:\n",
        "                index = i\n",
        "                break\n",
        "        if (b in index):\n",
        "            return 1\n",
        "        else:\n",
        "            return 0"
      ],
      "execution_count": 75,
      "outputs": []
    },
    {
      "cell_type": "code",
      "metadata": {
        "colab": {
          "base_uri": "https://localhost:8080/"
        },
        "id": "O6etvnzGiB56",
        "outputId": "7889f9d4-c185-45ea-d2ce-2698294a0d3e"
      },
      "source": [
        "# testing\n",
        "print(same_comm(77697, 826021))\n",
        "print(\"-------\")\n",
        "print(same_comm(669354,1635354))\n",
        "print(\"-------\")\n",
        "print(same_comm(3, 176995))\n",
        "print(\"-------\")\n",
        "print(same_comm(8611, 1659750))\n",
        "print(\"-------\")"
      ],
      "execution_count": 76,
      "outputs": [
        {
          "output_type": "stream",
          "name": "stdout",
          "text": [
            "0\n",
            "-------\n",
            "0\n",
            "-------\n",
            "0\n",
            "-------\n",
            "0\n",
            "-------\n"
          ]
        }
      ]
    },
    {
      "cell_type": "markdown",
      "metadata": {
        "id": "GzL-NnHNnftk"
      },
      "source": [
        "**PAGE RANK ALGORITHM**"
      ]
    },
    {
      "cell_type": "code",
      "metadata": {
        "id": "2AuS7uWknecK"
      },
      "source": [
        "pr = nx.pagerank(train_graph, alpha = 0.85) \n",
        "# alpha is damping parameter in Page rank(default = 0.85)\n",
        "pickle.dump(pr, open('page_rank.p','wb'))"
      ],
      "execution_count": 41,
      "outputs": []
    },
    {
      "cell_type": "code",
      "metadata": {
        "id": "_JXLIrrRnk2M"
      },
      "source": [
        "pr = pickle.load(open('page_rank.p','rb'))"
      ],
      "execution_count": 42,
      "outputs": []
    },
    {
      "cell_type": "code",
      "metadata": {
        "id": "ATUoIPeFnnJ-",
        "colab": {
          "base_uri": "https://localhost:8080/"
        },
        "outputId": "53fd21bf-5ec2-4b0c-d9f9-14c4405c0b87"
      },
      "source": [
        "type(pr)"
      ],
      "execution_count": 43,
      "outputs": [
        {
          "output_type": "execute_result",
          "data": {
            "text/plain": [
              "dict"
            ]
          },
          "metadata": {},
          "execution_count": 43
        }
      ]
    },
    {
      "cell_type": "code",
      "metadata": {
        "id": "0WiNwOSCnpYg",
        "colab": {
          "base_uri": "https://localhost:8080/"
        },
        "outputId": "aa42c21b-b941-419b-895c-3aa2dbae4e60"
      },
      "source": [
        "# mean, max and mean\n",
        "print('min',pr[min(pr, key = pr.get)])\n",
        "print('max',pr[max(pr, key = pr.get)])\n",
        "print('mean',float(sum(pr.values())) / len(pr))"
      ],
      "execution_count": 44,
      "outputs": [
        {
          "output_type": "stream",
          "name": "stdout",
          "text": [
            "min 1.7781273007062295e-05\n",
            "max 0.005538647162498356\n",
            "mean 4.5795933321128734e-05\n"
          ]
        }
      ]
    },
    {
      "cell_type": "code",
      "metadata": {
        "id": "gq4JsFAVnrwY",
        "colab": {
          "base_uri": "https://localhost:8080/"
        },
        "outputId": "b00930e7-d9a6-4c8b-eb29-fca8b5deaa86"
      },
      "source": [
        "# for imputing to nodes that are not present in Train data\n",
        "# mean imputation\n",
        "mean_pr = float(sum(pr.values())) / len(pr) \n",
        "print(mean_pr)"
      ],
      "execution_count": 45,
      "outputs": [
        {
          "output_type": "stream",
          "name": "stdout",
          "text": [
            "4.5795933321128734e-05\n"
          ]
        }
      ]
    },
    {
      "cell_type": "markdown",
      "metadata": {
        "id": "TXBS_KFyofSy"
      },
      "source": [
        "**SHORTEST PATH**"
      ]
    },
    {
      "cell_type": "code",
      "metadata": {
        "id": "qiCWiW_BofA1"
      },
      "source": [
        "# if there is a direct edge then remove that edge to compute shortest path\n",
        "def compute_shortest_path_length(a,b):\n",
        "    '''This function returns the shortest path length from src to dest'''\n",
        "    p = -1\n",
        "    try:\n",
        "        if train_graph.has_edge(a,b):\n",
        "            train_graph.remove_edge(a,b)\n",
        "            p = nx.shortest_path_length(train_graph, source = a, target = b)\n",
        "            train_graph.add_edge(a,b)\n",
        "        else:\n",
        "            p = nx.shortest_path_length(train_graph, source = a, target = b)\n",
        "        return p\n",
        "    except nx.NetworkXNoPath:\n",
        "        train_graph.add_edge(a, b)\n",
        "        return -1   \n",
        "    except:\n",
        "        return -1 "
      ],
      "execution_count": 46,
      "outputs": []
    },
    {
      "cell_type": "code",
      "metadata": {
        "id": "hxxJnAD4oodG",
        "colab": {
          "base_uri": "https://localhost:8080/"
        },
        "outputId": "a6e12d93-f55f-4090-8b50-a3bd10013528"
      },
      "source": [
        "# testing\n",
        "compute_shortest_path_length(77697, 826021)"
      ],
      "execution_count": 47,
      "outputs": [
        {
          "output_type": "execute_result",
          "data": {
            "text/plain": [
              "-1"
            ]
          },
          "metadata": {},
          "execution_count": 47
        }
      ]
    },
    {
      "cell_type": "code",
      "metadata": {
        "id": "llRwotNhorh0",
        "colab": {
          "base_uri": "https://localhost:8080/"
        },
        "outputId": "43698d95-9615-4e64-861f-6f0b83360bc1"
      },
      "source": [
        "# testing\n",
        "compute_shortest_path_length(669354, 1635354)"
      ],
      "execution_count": 48,
      "outputs": [
        {
          "output_type": "execute_result",
          "data": {
            "text/plain": [
              "-1"
            ]
          },
          "metadata": {},
          "execution_count": 48
        }
      ]
    },
    {
      "cell_type": "markdown",
      "metadata": {
        "id": "_zVv-Un6pjxv"
      },
      "source": [
        "# **FEATURIZATION**"
      ]
    },
    {
      "cell_type": "code",
      "metadata": {
        "id": "HU7R4fxtotiq",
        "colab": {
          "base_uri": "https://localhost:8080/"
        },
        "outputId": "b563508a-ad8b-4e4c-bfb7-072353c31f59"
      },
      "source": [
        "# Read a small random sample from a big CSV file into a Python data frame\n",
        "# For train data\n",
        "\n",
        "n_train = sum(1 for line in open(\"train_X.csv\")) # number of records in file (excludes header)\n",
        "print('n_train =', n_train)\n",
        "s = 100000 # desired sample size 100k datapoints\n",
        "skip_train = sorted(random.sample(range(1, n_train + 1), n_train - s))"
      ],
      "execution_count": 49,
      "outputs": [
        {
          "output_type": "stream",
          "name": "stdout",
          "text": [
            "n_train = 273603\n"
          ]
        }
      ]
    },
    {
      "cell_type": "code",
      "metadata": {
        "id": "a5IjKoevps16",
        "colab": {
          "base_uri": "https://localhost:8080/"
        },
        "outputId": "769c8df1-8986-41cd-b74b-61c59a7ab595"
      },
      "source": [
        "# For test data\n",
        "\n",
        "n_test = sum(1 for line in open(\"test_X.csv\")) # number of records in file (excludes header)\n",
        "print('n_test =', n_test)\n",
        "s = 50000 # desired sample size 50k datapoints\n",
        "skip_test = sorted(random.sample(range(1, n_test + 1), n_test - s))"
      ],
      "execution_count": 50,
      "outputs": [
        {
          "output_type": "stream",
          "name": "stdout",
          "text": [
            "n_test = 68402\n"
          ]
        }
      ]
    },
    {
      "cell_type": "code",
      "metadata": {
        "id": "vV4LZ9gLpvUX",
        "colab": {
          "base_uri": "https://localhost:8080/"
        },
        "outputId": "c09befe7-4e46-46ea-a212-9da9af3507d8"
      },
      "source": [
        "print(\"Number of rows in the train data file:\", n_train)\n",
        "print(\"Number of rows we are going to elimiate in train data: \", len(skip_train))\n",
        "print(\"Number of rows in the test data file:\", n_test)\n",
        "print(\"Number of rows we are going to elimiate in test data: \", len(skip_test))"
      ],
      "execution_count": 51,
      "outputs": [
        {
          "output_type": "stream",
          "name": "stdout",
          "text": [
            "Number of rows in the train data file: 273603\n",
            "Number of rows we are going to elimiate in train data:  173603\n",
            "Number of rows in the test data file: 68402\n",
            "Number of rows we are going to elimiate in test data:  18402\n"
          ]
        }
      ]
    },
    {
      "cell_type": "code",
      "metadata": {
        "id": "Zwg8ulnLp6us",
        "colab": {
          "base_uri": "https://localhost:8080/",
          "height": 223
        },
        "outputId": "7b6c9d0f-9fdf-4b47-f4e5-81b2f7609737"
      },
      "source": [
        "# final train data after sampling\n",
        "\n",
        "df_final_train = pd.read_csv('train_X.csv', skiprows = skip_train, names = ['source_node', 'destination_node'])\n",
        "df_final_train['indicator_link'] = pd.read_csv('train_y.csv', skiprows = skip_train, names = ['indicator_link'])\n",
        "\n",
        "print(\"Train matrix shape:\", df_final_train.shape)\n",
        "df_final_train.head()"
      ],
      "execution_count": 52,
      "outputs": [
        {
          "output_type": "stream",
          "name": "stdout",
          "text": [
            "Train matrix shape: (100001, 3)\n"
          ]
        },
        {
          "output_type": "execute_result",
          "data": {
            "text/html": [
              "<div>\n",
              "<style scoped>\n",
              "    .dataframe tbody tr th:only-of-type {\n",
              "        vertical-align: middle;\n",
              "    }\n",
              "\n",
              "    .dataframe tbody tr th {\n",
              "        vertical-align: top;\n",
              "    }\n",
              "\n",
              "    .dataframe thead th {\n",
              "        text-align: right;\n",
              "    }\n",
              "</style>\n",
              "<table border=\"1\" class=\"dataframe\">\n",
              "  <thead>\n",
              "    <tr style=\"text-align: right;\">\n",
              "      <th></th>\n",
              "      <th>source_node</th>\n",
              "      <th>destination_node</th>\n",
              "      <th>indicator_link</th>\n",
              "    </tr>\n",
              "  </thead>\n",
              "  <tbody>\n",
              "    <tr>\n",
              "      <th>0</th>\n",
              "      <td>5951</td>\n",
              "      <td>21787</td>\n",
              "      <td>1</td>\n",
              "    </tr>\n",
              "    <tr>\n",
              "      <th>1</th>\n",
              "      <td>899</td>\n",
              "      <td>10379</td>\n",
              "      <td>1</td>\n",
              "    </tr>\n",
              "    <tr>\n",
              "      <th>2</th>\n",
              "      <td>2074</td>\n",
              "      <td>9883</td>\n",
              "      <td>1</td>\n",
              "    </tr>\n",
              "    <tr>\n",
              "      <th>3</th>\n",
              "      <td>10697</td>\n",
              "      <td>15649</td>\n",
              "      <td>1</td>\n",
              "    </tr>\n",
              "    <tr>\n",
              "      <th>4</th>\n",
              "      <td>3735</td>\n",
              "      <td>4922</td>\n",
              "      <td>1</td>\n",
              "    </tr>\n",
              "  </tbody>\n",
              "</table>\n",
              "</div>"
            ],
            "text/plain": [
              "   source_node  destination_node  indicator_link\n",
              "0         5951             21787               1\n",
              "1          899             10379               1\n",
              "2         2074              9883               1\n",
              "3        10697             15649               1\n",
              "4         3735              4922               1"
            ]
          },
          "metadata": {},
          "execution_count": 52
        }
      ]
    },
    {
      "cell_type": "code",
      "metadata": {
        "id": "iB-ANJvtp_KQ",
        "colab": {
          "base_uri": "https://localhost:8080/"
        },
        "outputId": "b82e425b-e298-425f-b8f8-df1f461f0d30"
      },
      "source": [
        "df_final_train['indicator_link'].value_counts()"
      ],
      "execution_count": 53,
      "outputs": [
        {
          "output_type": "execute_result",
          "data": {
            "text/plain": [
              "0    50041\n",
              "1    49960\n",
              "Name: indicator_link, dtype: int64"
            ]
          },
          "metadata": {},
          "execution_count": 53
        }
      ]
    },
    {
      "cell_type": "code",
      "metadata": {
        "id": "4FKlNynjqEOE",
        "colab": {
          "base_uri": "https://localhost:8080/",
          "height": 223
        },
        "outputId": "0141a242-ce92-4b32-82f9-c52013feeb0e"
      },
      "source": [
        "# final test data after sampling\n",
        "\n",
        "df_final_test = pd.read_csv('test_X.csv', skiprows = skip_test, names = ['source_node', 'destination_node'])\n",
        "df_final_test['indicator_link'] = pd.read_csv('test_y.csv', skiprows = skip_test, names = ['indicator_link'])\n",
        "\n",
        "print(\"Test matrix shape:\", df_final_test.shape)\n",
        "df_final_test.head()"
      ],
      "execution_count": 56,
      "outputs": [
        {
          "output_type": "stream",
          "name": "stdout",
          "text": [
            "Test matrix shape: (50001, 3)\n"
          ]
        },
        {
          "output_type": "execute_result",
          "data": {
            "text/html": [
              "<div>\n",
              "<style scoped>\n",
              "    .dataframe tbody tr th:only-of-type {\n",
              "        vertical-align: middle;\n",
              "    }\n",
              "\n",
              "    .dataframe tbody tr th {\n",
              "        vertical-align: top;\n",
              "    }\n",
              "\n",
              "    .dataframe thead th {\n",
              "        text-align: right;\n",
              "    }\n",
              "</style>\n",
              "<table border=\"1\" class=\"dataframe\">\n",
              "  <thead>\n",
              "    <tr style=\"text-align: right;\">\n",
              "      <th></th>\n",
              "      <th>source_node</th>\n",
              "      <th>destination_node</th>\n",
              "      <th>indicator_link</th>\n",
              "    </tr>\n",
              "  </thead>\n",
              "  <tbody>\n",
              "    <tr>\n",
              "      <th>0</th>\n",
              "      <td>14981</td>\n",
              "      <td>21761</td>\n",
              "      <td>1</td>\n",
              "    </tr>\n",
              "    <tr>\n",
              "      <th>1</th>\n",
              "      <td>961</td>\n",
              "      <td>17258</td>\n",
              "      <td>1</td>\n",
              "    </tr>\n",
              "    <tr>\n",
              "      <th>2</th>\n",
              "      <td>16602</td>\n",
              "      <td>22208</td>\n",
              "      <td>1</td>\n",
              "    </tr>\n",
              "    <tr>\n",
              "      <th>3</th>\n",
              "      <td>2284</td>\n",
              "      <td>12936</td>\n",
              "      <td>1</td>\n",
              "    </tr>\n",
              "    <tr>\n",
              "      <th>4</th>\n",
              "      <td>9729</td>\n",
              "      <td>12375</td>\n",
              "      <td>1</td>\n",
              "    </tr>\n",
              "  </tbody>\n",
              "</table>\n",
              "</div>"
            ],
            "text/plain": [
              "   source_node  destination_node  indicator_link\n",
              "0        14981             21761               1\n",
              "1          961             17258               1\n",
              "2        16602             22208               1\n",
              "3         2284             12936               1\n",
              "4         9729             12375               1"
            ]
          },
          "metadata": {},
          "execution_count": 56
        }
      ]
    },
    {
      "cell_type": "code",
      "metadata": {
        "id": "g9Kkc0jfqF0C",
        "colab": {
          "base_uri": "https://localhost:8080/"
        },
        "outputId": "64cbd423-db64-4a3c-8778-3456a03aee4c"
      },
      "source": [
        "df_final_test['indicator_link'].value_counts()"
      ],
      "execution_count": 57,
      "outputs": [
        {
          "output_type": "execute_result",
          "data": {
            "text/plain": [
              "1    25020\n",
              "0    24981\n",
              "Name: indicator_link, dtype: int64"
            ]
          },
          "metadata": {},
          "execution_count": 57
        }
      ]
    },
    {
      "cell_type": "code",
      "metadata": {
        "id": "CFV9ogxcqLLx",
        "colab": {
          "base_uri": "https://localhost:8080/"
        },
        "outputId": "1ec2c18e-3358-4b90-f151-d0972cd7a3ad"
      },
      "source": [
        "# check for null values: train dataframe\n",
        "\n",
        "df_final_train.isnull().sum()"
      ],
      "execution_count": 58,
      "outputs": [
        {
          "output_type": "execute_result",
          "data": {
            "text/plain": [
              "source_node         0\n",
              "destination_node    0\n",
              "indicator_link      0\n",
              "dtype: int64"
            ]
          },
          "metadata": {},
          "execution_count": 58
        }
      ]
    },
    {
      "cell_type": "code",
      "metadata": {
        "id": "1rEV4t1yqN-J",
        "colab": {
          "base_uri": "https://localhost:8080/"
        },
        "outputId": "2f69c6c3-423f-4ee4-ee84-478137b175b1"
      },
      "source": [
        "# check for null values: test dataframe\n",
        "\n",
        "df_final_test.isnull().sum()"
      ],
      "execution_count": 59,
      "outputs": [
        {
          "output_type": "execute_result",
          "data": {
            "text/plain": [
              "source_node         0\n",
              "destination_node    0\n",
              "indicator_link      0\n",
              "dtype: int64"
            ]
          },
          "metadata": {},
          "execution_count": 59
        }
      ]
    },
    {
      "cell_type": "markdown",
      "metadata": {
        "id": "_O2JcPByqVV8"
      },
      "source": [
        "**ADDING SET OF FEATURES**"
      ]
    },
    {
      "cell_type": "code",
      "metadata": {
        "id": "6gj4XFlBqZCt"
      },
      "source": [
        "# mapping jaccard followers to train and test data\n",
        "\n",
        "df_final_train['jaccard_likes'] = df_final_train.apply(lambda row: jaccard_for_likes(row['source_node'], row['destination_node']), axis=1)\n",
        "df_final_test['jaccard_likes'] = df_final_test.apply(lambda row: jaccard_for_likes(row['source_node'], row['destination_node']), axis=1)\n",
        "\n",
        "# mapping jaccard followees to train and test data\n",
        "\n",
        "df_final_train['jaccard_liked'] = df_final_train.apply(lambda row: jaccard_for_liked(row['source_node'], row['destination_node']), axis=1)\n",
        "df_final_test['jaccard_liked'] = df_final_test.apply(lambda row: jaccard_for_liked(row['source_node'], row['destination_node']), axis=1)\n",
        "    \n",
        "# mapping cosine followers to train and test data\n",
        "\n",
        "df_final_train['cosine_likes'] = df_final_train.apply(lambda row: cosine_for_likes(row['source_node'], row['destination_node']), axis=1)\n",
        "df_final_test['cosine_likes'] = df_final_test.apply(lambda row: cosine_for_likes(row['source_node'], row['destination_node']), axis=1)\n",
        "\n",
        "# mapping cosine followees to train and test data\n",
        "\n",
        "df_final_train['cosine_liked'] = df_final_train.apply(lambda row: cosine_for_liked(row['source_node'], row['destination_node']), axis=1)\n",
        "df_final_test['cosine_liked'] = df_final_test.apply(lambda row: cosine_for_liked(row['source_node'], row['destination_node']), axis=1)\n",
        "\n",
        "# mapping prefer_attach_followees to train and test data\n",
        "\n",
        "df_final_train['prefer_attach_likes'] = df_final_train.apply(lambda row: prefer_attach_likes(row['source_node'], row['destination_node']), axis=1)\n",
        "df_final_test['prefer_attach_likes'] = df_final_test.apply(lambda row: prefer_attach_likes(row['source_node'], row['destination_node']), axis=1)\n",
        "\n",
        "# mapping jaccard followees to train and test data\n",
        "\n",
        "df_final_train['prefer_attach_liked'] = df_final_train.apply(lambda row: prefer_attach_liked(row['source_node'], row['destination_node']), axis=1)\n",
        "df_final_test['prefer_attach_liked'] = df_final_test.apply(lambda row: prefer_attach_liked(row['source_node'], row['destination_node']), axis=1)"
      ],
      "execution_count": 61,
      "outputs": []
    },
    {
      "cell_type": "code",
      "metadata": {
        "id": "MtxGAv0Oqd7G"
      },
      "source": [
        "def compute_features_stage1(df_final):\n",
        "    ''' This function computes the num of followers, num of followees, num of common followers, num of common followees for the source and destination nodes respectively'''\n",
        "    num_followers_s = []\n",
        "    num_followees_s = []\n",
        "    num_followers_d = []\n",
        "    num_followees_d = []\n",
        "    num_common_followers = []\n",
        "    num_common_followees = []\n",
        "    for i, row in df_final.iterrows():\n",
        "        try:\n",
        "            s1 = set(train_graph.predecessors(row['source_node'])) # followers of src node\n",
        "            s2 = set(train_graph.successors(row['source_node']))   # followees of src node\n",
        "        except:\n",
        "            s1 = set()\n",
        "            s2 = set()\n",
        "        try:\n",
        "            d1 = set(train_graph.predecessors(row['destination_node'])) # followers of dest node\n",
        "            d2 = set(train_graph.successors(row['destination_node']))   # followees of dest node\n",
        "        except:\n",
        "            d1 = set()\n",
        "            d2 = set()\n",
        "\n",
        "        num_followers_s.append(len(s1))\n",
        "        num_followees_s.append(len(s2))\n",
        "        num_followers_d.append(len(d1))\n",
        "        num_followees_d.append(len(d2))\n",
        "        num_common_followers.append(len(s1.intersection(d1)))\n",
        "        num_common_followees.append(len(s2.intersection(d2)))\n",
        "    \n",
        "    return num_followers_s, num_followers_d, num_followees_s, num_followees_d, num_common_followers, num_common_followees"
      ],
      "execution_count": 62,
      "outputs": []
    },
    {
      "cell_type": "code",
      "metadata": {
        "id": "TpFMFgYtqelV"
      },
      "source": [
        "df_final_train['num_followers_s'], df_final_train['num_followers_d'], \\\n",
        "df_final_train['num_followees_s'], df_final_train['num_followees_d'], \\\n",
        "df_final_train['num_common_followers'], df_final_train['num_common_followees'] = compute_features_stage1(df_final_train)\n",
        "    \n",
        "df_final_test['num_followers_s'], df_final_test['num_followers_d'], \\\n",
        "df_final_test['num_followees_s'], df_final_test['num_followees_d'], \\\n",
        "df_final_test['num_common_followers'], df_final_test['num_common_followees'] = compute_features_stage1(df_final_test)"
      ],
      "execution_count": 63,
      "outputs": []
    },
    {
      "cell_type": "code",
      "metadata": {
        "id": "ftV3BFWPqhZu"
      },
      "source": [
        "# storing the file in hdfs format\n",
        "hdf = HDFStore('store_sample_stage1.h5')\n",
        "hdf.put('train_df', df_final_train, format = 'table', data_columns = True)\n",
        "hdf.put('test_df', df_final_test, format = 'table', data_columns = True)\n",
        "hdf.close()"
      ],
      "execution_count": 66,
      "outputs": []
    },
    {
      "cell_type": "code",
      "metadata": {
        "id": "WXXOAFL_qn9B"
      },
      "source": [
        "# read files stored in previous stage \n",
        "df_final_train = read_hdf('store_sample_stage1.h5', 'train_df', mode ='r')\n",
        "df_final_test = read_hdf('store_sample_stage1.h5', 'test_df', mode ='r')"
      ],
      "execution_count": 67,
      "outputs": []
    },
    {
      "cell_type": "code",
      "metadata": {
        "id": "VJ6u0Z_uqopz",
        "colab": {
          "base_uri": "https://localhost:8080/"
        },
        "outputId": "ded9d892-5629-4b38-cfdc-f296aaf20ee4"
      },
      "source": [
        "# mapping shortest path on train \n",
        "df_final_train['shortest_path'] = df_final_train.apply(lambda row: compute_shortest_path_length(row['source_node'], row['destination_node']),axis=1)\n",
        "# mapping shortest path on test\n",
        "df_final_test['shortest_path'] = df_final_test.apply(lambda row: compute_shortest_path_length(row['source_node'], row['destination_node']),axis=1)\n",
        "\n",
        "print('shortest_path done....')\n",
        "#--------------------------------------------------------------------------------------------------------\n",
        "# mapping adar index on train\n",
        "df_final_train['adar_index'] = df_final_train.apply(lambda row: adamic_adar_index(row['source_node'],row['destination_node']),axis=1)\n",
        "# mapping adar index on test\n",
        "df_final_test['adar_index'] = df_final_test.apply(lambda row: adamic_adar_index(row['source_node'],row['destination_node']),axis=1)\n",
        "\n",
        "print('adar_index done....')\n",
        "#--------------------------------------------------------------------------------------------------------\n",
        "# mapping followback or not on train\n",
        "df_final_train['follows_back'] = df_final_train.apply(lambda row: likes_back(row['source_node'],row['destination_node']),axis=1)\n",
        "# mapping followback or not on test\n",
        "df_final_test['follows_back'] = df_final_test.apply(lambda row: likes_back(row['source_node'],row['destination_node']),axis=1)\n",
        "\n",
        "print('likes_back done.....')\n",
        "#--------------------------------------------------------------------------------------------------------\n",
        "# mapping same component of wcc or not on train\n",
        "df_final_train['same_comp'] = df_final_train.apply(lambda row: same_comm(row['source_node'],row['destination_node']),axis=1)\n",
        "# mapping same component of wcc or not on train\n",
        "df_final_test['same_comp'] = df_final_test.apply(lambda row: same_comm(row['source_node'],row['destination_node']),axis=1)\n",
        "\n",
        "print('same_comm done....')"
      ],
      "execution_count": 77,
      "outputs": [
        {
          "output_type": "stream",
          "name": "stdout",
          "text": [
            "shortest_path done....\n"
          ]
        },
        {
          "output_type": "stream",
          "name": "stderr",
          "text": [
            "/usr/local/lib/python3.7/dist-packages/ipykernel_launcher.py:7: RuntimeWarning: divide by zero encountered in double_scalars\n",
            "  import sys\n"
          ]
        },
        {
          "output_type": "stream",
          "name": "stdout",
          "text": [
            "adar_index done....\n",
            "likes_back done.....\n",
            "same_comm done....\n"
          ]
        }
      ]
    },
    {
      "cell_type": "code",
      "metadata": {
        "id": "LYeYxG3uqshV",
        "colab": {
          "base_uri": "https://localhost:8080/",
          "height": 132
        },
        "outputId": "e4fda70b-09d4-4779-fbbc-a4b202cd627b"
      },
      "source": [
        "df_final_train.head(2)"
      ],
      "execution_count": 78,
      "outputs": [
        {
          "output_type": "execute_result",
          "data": {
            "text/html": [
              "<div>\n",
              "<style scoped>\n",
              "    .dataframe tbody tr th:only-of-type {\n",
              "        vertical-align: middle;\n",
              "    }\n",
              "\n",
              "    .dataframe tbody tr th {\n",
              "        vertical-align: top;\n",
              "    }\n",
              "\n",
              "    .dataframe thead th {\n",
              "        text-align: right;\n",
              "    }\n",
              "</style>\n",
              "<table border=\"1\" class=\"dataframe\">\n",
              "  <thead>\n",
              "    <tr style=\"text-align: right;\">\n",
              "      <th></th>\n",
              "      <th>source_node</th>\n",
              "      <th>destination_node</th>\n",
              "      <th>indicator_link</th>\n",
              "      <th>jaccard_likes</th>\n",
              "      <th>jaccard_liked</th>\n",
              "      <th>cosine_likes</th>\n",
              "      <th>cosine_liked</th>\n",
              "      <th>prefer_attach_likes</th>\n",
              "      <th>prefer_attach_liked</th>\n",
              "      <th>num_followers_s</th>\n",
              "      <th>num_followers_d</th>\n",
              "      <th>num_followees_s</th>\n",
              "      <th>num_followees_d</th>\n",
              "      <th>num_common_followers</th>\n",
              "      <th>num_common_followees</th>\n",
              "      <th>shortest_path</th>\n",
              "      <th>adar_index</th>\n",
              "      <th>follows_back</th>\n",
              "      <th>same_comp</th>\n",
              "    </tr>\n",
              "  </thead>\n",
              "  <tbody>\n",
              "    <tr>\n",
              "      <th>0</th>\n",
              "      <td>5951</td>\n",
              "      <td>21787</td>\n",
              "      <td>1</td>\n",
              "      <td>0.105263</td>\n",
              "      <td>0.000000</td>\n",
              "      <td>0.242536</td>\n",
              "      <td>0.000000</td>\n",
              "      <td>272</td>\n",
              "      <td>0</td>\n",
              "      <td>8</td>\n",
              "      <td>34</td>\n",
              "      <td>27</td>\n",
              "      <td>0</td>\n",
              "      <td>4</td>\n",
              "      <td>0</td>\n",
              "      <td>2</td>\n",
              "      <td>0.000000</td>\n",
              "      <td>0</td>\n",
              "      <td>1</td>\n",
              "    </tr>\n",
              "    <tr>\n",
              "      <th>1</th>\n",
              "      <td>899</td>\n",
              "      <td>10379</td>\n",
              "      <td>1</td>\n",
              "      <td>0.000000</td>\n",
              "      <td>0.053191</td>\n",
              "      <td>0.000000</td>\n",
              "      <td>0.109897</td>\n",
              "      <td>602</td>\n",
              "      <td>2070</td>\n",
              "      <td>2</td>\n",
              "      <td>301</td>\n",
              "      <td>30</td>\n",
              "      <td>69</td>\n",
              "      <td>0</td>\n",
              "      <td>5</td>\n",
              "      <td>2</td>\n",
              "      <td>2.559114</td>\n",
              "      <td>0</td>\n",
              "      <td>1</td>\n",
              "    </tr>\n",
              "  </tbody>\n",
              "</table>\n",
              "</div>"
            ],
            "text/plain": [
              "   source_node  destination_node  ...  follows_back  same_comp\n",
              "0         5951             21787  ...             0          1\n",
              "1          899             10379  ...             0          1\n",
              "\n",
              "[2 rows x 19 columns]"
            ]
          },
          "metadata": {},
          "execution_count": 78
        }
      ]
    },
    {
      "cell_type": "code",
      "metadata": {
        "id": "Yleedr0Aquua",
        "colab": {
          "base_uri": "https://localhost:8080/",
          "height": 132
        },
        "outputId": "54ca2eb3-e90e-4999-a559-5848b7a937c3"
      },
      "source": [
        "df_final_test.head(2)\n"
      ],
      "execution_count": 79,
      "outputs": [
        {
          "output_type": "execute_result",
          "data": {
            "text/html": [
              "<div>\n",
              "<style scoped>\n",
              "    .dataframe tbody tr th:only-of-type {\n",
              "        vertical-align: middle;\n",
              "    }\n",
              "\n",
              "    .dataframe tbody tr th {\n",
              "        vertical-align: top;\n",
              "    }\n",
              "\n",
              "    .dataframe thead th {\n",
              "        text-align: right;\n",
              "    }\n",
              "</style>\n",
              "<table border=\"1\" class=\"dataframe\">\n",
              "  <thead>\n",
              "    <tr style=\"text-align: right;\">\n",
              "      <th></th>\n",
              "      <th>source_node</th>\n",
              "      <th>destination_node</th>\n",
              "      <th>indicator_link</th>\n",
              "      <th>jaccard_likes</th>\n",
              "      <th>jaccard_liked</th>\n",
              "      <th>cosine_likes</th>\n",
              "      <th>cosine_liked</th>\n",
              "      <th>prefer_attach_likes</th>\n",
              "      <th>prefer_attach_liked</th>\n",
              "      <th>num_followers_s</th>\n",
              "      <th>num_followers_d</th>\n",
              "      <th>num_followees_s</th>\n",
              "      <th>num_followees_d</th>\n",
              "      <th>num_common_followers</th>\n",
              "      <th>num_common_followees</th>\n",
              "      <th>shortest_path</th>\n",
              "      <th>adar_index</th>\n",
              "      <th>follows_back</th>\n",
              "      <th>same_comp</th>\n",
              "    </tr>\n",
              "  </thead>\n",
              "  <tbody>\n",
              "    <tr>\n",
              "      <th>0</th>\n",
              "      <td>14981</td>\n",
              "      <td>21761</td>\n",
              "      <td>1</td>\n",
              "      <td>0.014286</td>\n",
              "      <td>0.000000</td>\n",
              "      <td>0.061085</td>\n",
              "      <td>0.000000</td>\n",
              "      <td>268</td>\n",
              "      <td>0</td>\n",
              "      <td>67</td>\n",
              "      <td>4</td>\n",
              "      <td>23</td>\n",
              "      <td>0</td>\n",
              "      <td>1</td>\n",
              "      <td>0</td>\n",
              "      <td>6</td>\n",
              "      <td>0.000000</td>\n",
              "      <td>0</td>\n",
              "      <td>1</td>\n",
              "    </tr>\n",
              "    <tr>\n",
              "      <th>1</th>\n",
              "      <td>961</td>\n",
              "      <td>17258</td>\n",
              "      <td>1</td>\n",
              "      <td>0.000000</td>\n",
              "      <td>0.022727</td>\n",
              "      <td>0.000000</td>\n",
              "      <td>0.085848</td>\n",
              "      <td>264</td>\n",
              "      <td>2171</td>\n",
              "      <td>8</td>\n",
              "      <td>33</td>\n",
              "      <td>167</td>\n",
              "      <td>13</td>\n",
              "      <td>0</td>\n",
              "      <td>4</td>\n",
              "      <td>2</td>\n",
              "      <td>2.271135</td>\n",
              "      <td>0</td>\n",
              "      <td>1</td>\n",
              "    </tr>\n",
              "  </tbody>\n",
              "</table>\n",
              "</div>"
            ],
            "text/plain": [
              "   source_node  destination_node  ...  follows_back  same_comp\n",
              "0        14981             21761  ...             0          1\n",
              "1          961             17258  ...             0          1\n",
              "\n",
              "[2 rows x 19 columns]"
            ]
          },
          "metadata": {},
          "execution_count": 79
        }
      ]
    },
    {
      "cell_type": "code",
      "metadata": {
        "id": "ItpjIc53qxBF",
        "colab": {
          "base_uri": "https://localhost:8080/"
        },
        "outputId": "e8f894e4-a59b-40d0-fa8c-e5e48341573c"
      },
      "source": [
        "# sanity check of the newly added feature\n",
        "df_final_test['same_comp'].value_counts()"
      ],
      "execution_count": 80,
      "outputs": [
        {
          "output_type": "execute_result",
          "data": {
            "text/plain": [
              "1    48031\n",
              "0     1970\n",
              "Name: same_comp, dtype: int64"
            ]
          },
          "metadata": {},
          "execution_count": 80
        }
      ]
    },
    {
      "cell_type": "code",
      "metadata": {
        "id": "4ncY5ic-q3KO"
      },
      "source": [
        "# store the above features in hdfs file\n",
        "hdf = HDFStore('storage_sample_stage2.h5')\n",
        "hdf.put('train_df',df_final_train, format='table', data_columns = True)\n",
        "hdf.put('test_df',df_final_test, format='table', data_columns = True)\n",
        "hdf.close()"
      ],
      "execution_count": 82,
      "outputs": []
    },
    {
      "cell_type": "markdown",
      "metadata": {
        "id": "89tcHt02rFHK"
      },
      "source": [
        "# **MACHINE LEARNING MODELS**"
      ]
    },
    {
      "cell_type": "code",
      "metadata": {
        "id": "Wo88E2EFrJSJ"
      },
      "source": [
        "# read previously stored data \n",
        "my_path = '/content/gdrive/My Drive/Social Network Graph Link Prediction/data/'\n",
        "df_final_train = read_hdf(my_path + 'storage_sample_stage3.h5', 'train_df', mode = 'r')\n",
        "df_final_test = read_hdf(my_path + 'storage_sample_stage3.h5', 'test_df', mode = 'r')"
      ],
      "execution_count": null,
      "outputs": []
    },
    {
      "cell_type": "code",
      "metadata": {
        "id": "ydi6nkUGrLq2"
      },
      "source": [
        "# all columns \n",
        "df_final_train.columns"
      ],
      "execution_count": null,
      "outputs": []
    },
    {
      "cell_type": "code",
      "metadata": {
        "id": "mcl7G8cdrNst"
      },
      "source": [
        "# train and test data \n",
        "y_train = df_final_train.indicator_link\n",
        "X_train = df_final_train.drop(['source_node', 'destination_node','indicator_link'], axis = 1)\n",
        "y_test = df_final_test.indicator_link\n",
        "X_test = df_final_test.drop(['source_node', 'destination_node','indicator_link'], axis = 1)\n",
        "\n",
        "print('Train data:', (X_train.shape, y_train.shape))\n",
        "print('Test data:', (X_test.shape, y_test.shape))"
      ],
      "execution_count": null,
      "outputs": []
    },
    {
      "cell_type": "markdown",
      "metadata": {
        "id": "8_DZDLTSrWPr"
      },
      "source": [
        "**RANDON FOREST CLASSIFIER**"
      ]
    },
    {
      "cell_type": "code",
      "metadata": {
        "id": "VSAmpoPDrQYc"
      },
      "source": [
        "from sklearn.ensemble import RandomForestClassifier\n",
        "from sklearn.model_selection import GridSearchCV\n",
        "from sklearn.metrics import f1_score\n",
        "\n",
        "rfc = RandomForestClassifier(n_jobs = -1, random_state = 42)\n",
        "params = {'n_estimators': [50, 100, 150, 250, 500, 1000], \n",
        "          'max_depth': [3, 5, 7, 11, 15, 35]}\n",
        "clf = GridSearchCV(rfc, params, scoring = 'f1', cv = 5, return_train_score = True, n_jobs = -1)\n",
        "clf.fit(X_train, y_train)"
      ],
      "execution_count": null,
      "outputs": []
    },
    {
      "cell_type": "code",
      "metadata": {
        "id": "HmQ0Fk-Arbtt"
      },
      "source": [
        "# plot the performance of model both on train data and cross validation data for each hyper parameter using a Seaborn Heatmap\n",
        "# reference -> https://kavisekhon.com/Grid%20Search.html\n",
        "\n",
        "sns.set()\n",
        "max_scores = pd.DataFrame(clf.cv_results_).groupby(\n",
        "            ['param_n_estimators', 'param_max_depth']).max().unstack()[\n",
        "            ['mean_train_score', 'mean_test_score']]\n",
        "\n",
        "fig, ax = plt.subplots(1,2, figsize=(15,4))\n",
        "sns.heatmap(max_scores.mean_train_score, annot = True, ax = ax[0], fmt = '.4g', cmap = \"YlGnBu\")\n",
        "sns.heatmap(max_scores.mean_test_score, annot = True, ax = ax[1], fmt ='.4g', cmap = \"YlGnBu\")\n",
        "\n",
        "ax[0].set_title('Train Set', fontsize = 15)\n",
        "ax[1].set_title('CV Set', fontsize = 15)\n",
        "plt.show()"
      ],
      "execution_count": null,
      "outputs": []
    },
    {
      "cell_type": "code",
      "metadata": {
        "id": "Gja1wmYrrgE8"
      },
      "source": [
        "# random forest classifier with optimal hyperparameters found above \n",
        "from sklearn.ensemble import RandomForestClassifier\n",
        "from sklearn.metrics import f1_score\n",
        "\n",
        "rfc = RandomForestClassifier(n_estimators = 150, max_depth = 15, random_state = 101, n_jobs = -1)\n",
        "rfc.fit(X_train, y_train)\n",
        "y_pred_train =  rfc.predict(X_train)\n",
        "y_pred_test = rfc.predict(X_test)\n",
        "train_f1 = f1_score(y_train, y_pred_train)\n",
        "test_f1 = f1_score(y_test, y_pred_test)\n",
        "print(\"Train f1 score = \", train_f1)\n",
        "print(\"Test f1 score = \", test_f1)"
      ],
      "execution_count": null,
      "outputs": []
    },
    {
      "cell_type": "code",
      "metadata": {
        "id": "XiSIVxxWrgpg"
      },
      "source": [
        "from sklearn.metrics import confusion_matrix\n",
        "def plot_confusion_matrix(test_y, predict_y):\n",
        "    ''' function to construct Confusion matrix, Precision matrix and Recall matrix'''\n",
        "    C = confusion_matrix(test_y, predict_y) # confusion mtrix\n",
        "    \n",
        "    A = (((C.T)/(C.sum(axis=1))).T) # precision matrix\n",
        "    \n",
        "    B = (C/C.sum(axis=0)) # recall matrix\n",
        "    \n",
        "    plt.figure(figsize=(20, 4))\n",
        "    labels = [0, 1]\n",
        "    # representing Confusion matrix in heatmap format\n",
        "    #cmap=sns.light_palette(\"blue\")\n",
        "    plt.subplot(1, 3, 1)\n",
        "    sns.heatmap(C, annot = True,  fmt=\".3f\", xticklabels = labels, yticklabels = labels)\n",
        "    plt.xlabel('Predicted Class')\n",
        "    plt.ylabel('Original Class')\n",
        "    plt.title(\"Confusion matrix\")\n",
        "    \n",
        "    # representing Precision matrix in heatmap format\n",
        "    plt.subplot(1, 3, 2)\n",
        "    sns.heatmap(B, annot = True,  fmt=\".3f\", xticklabels = labels, yticklabels = labels)\n",
        "    plt.xlabel('Predicted Class')\n",
        "    plt.ylabel('Original Class')\n",
        "    plt.title(\"Precision matrix\")\n",
        "    \n",
        "    plt.subplot(1, 3, 3)\n",
        "    # representing Recall matrix in heatmap format\n",
        "    sns.heatmap(A, annot = True,  fmt=\".3f\", xticklabels = labels, yticklabels = labels)\n",
        "    plt.xlabel('Predicted Class')\n",
        "    plt.ylabel('Original Class')\n",
        "    plt.title(\"Recall matrix\")\n",
        "    \n",
        "    plt.show()"
      ],
      "execution_count": null,
      "outputs": []
    },
    {
      "cell_type": "code",
      "metadata": {
        "id": "IuAta1PDrkC1"
      },
      "source": [
        "# plotting confusion matrix, precision matrix and recall matrix\n",
        "\n",
        "train_accuracy = accuracy_score(y_train, y_pred_train)\n",
        "test_accuracy = accuracy_score(y_test, y_pred_test)\n",
        "\n",
        "print(\"- \"*30, 'Train confusion_matrix', \"- \"*30)\n",
        "plot_confusion_matrix(y_train, y_pred_train)\n",
        "print(\"\\nTrain F1 score:\", round(train_f1, 4))\n",
        "print(\"Train Accuracy:\", round(train_accuracy*100, 2), \"%\")\n",
        "\n",
        "\n",
        "print(\"- \"*30, 'Test confusion_matrix', \"- \"*30)\n",
        "plot_confusion_matrix(y_test, y_pred_test)\n",
        "print(\"\\nTest F1 score:\", round(test_f1, 4))\n",
        "print(\"Test Accuracy:\", round(test_accuracy*100, 2), \"%\")"
      ],
      "execution_count": null,
      "outputs": []
    },
    {
      "cell_type": "code",
      "metadata": {
        "id": "cS6KBZaMrojC"
      },
      "source": [
        "# relative feature importance \n",
        "\n",
        "features = X_train.columns\n",
        "importance = rfc.feature_importances_\n",
        "indices = (np.argsort(importance))[-25:] # top 25 features\n",
        "sns.set(style = 'ticks')\n",
        "plt.figure(figsize=(8, 10))\n",
        "plt.title('Feature Importance', fontsize = 15)\n",
        "plt.barh(range(len(indices)), importance[indices], align ='center')\n",
        "plt.yticks(range(len(indices)), [features[i] for i in indices], fontsize = 12)\n",
        "plt.xlabel('Relative Importance')\n",
        "plt.ylabel('Features')\n",
        "plt.grid()\n",
        "plt.show()"
      ],
      "execution_count": null,
      "outputs": []
    },
    {
      "cell_type": "markdown",
      "metadata": {
        "id": "CmFzrgi2rsgy"
      },
      "source": [
        "**XGBOOST**"
      ]
    },
    {
      "cell_type": "code",
      "metadata": {
        "id": "fkszf5vFrwK1"
      },
      "source": [
        "from xgboost.sklearn import XGBClassifier\n",
        "from sklearn.model_selection import GridSearchCV\n",
        "from sklearn.metrics import f1_score\n",
        "\n",
        "xgb = XGBClassifier(n_jobs = -1, random_state = 21)\n",
        "params = {'n_estimators': [150, 250, 500, 750], \n",
        "          'max_depth': [3, 5, 7, 15, 35]}\n",
        "clf = GridSearchCV(xgb, params, scoring = 'f1', cv = 5, return_train_score = True, n_jobs = -1)\n",
        "clf.fit(X_train, y_train)"
      ],
      "execution_count": null,
      "outputs": []
    },
    {
      "cell_type": "code",
      "metadata": {
        "id": "1zIY_F1sryjM"
      },
      "source": [
        "# plot the performance of model both on train data and cross validation data for each hyper parameter using a Seaborn Heatmap\n",
        "# reference -> https://kavisekhon.com/Grid%20Search.html\n",
        "\n",
        "sns.set()\n",
        "max_scores = pd.DataFrame(clf.cv_results_).groupby(\n",
        "            ['param_n_estimators', 'param_max_depth']).max().unstack()[\n",
        "            ['mean_train_score', 'mean_test_score']]\n",
        "\n",
        "fig, ax = plt.subplots(1,2, figsize = (18, 4))\n",
        "sns.heatmap(max_scores.mean_train_score, annot = True, ax = ax[0], fmt = '.5g', cmap = \"YlGnBu\")\n",
        "sns.heatmap(max_scores.mean_test_score, annot = True, ax = ax[1], fmt ='.5g', cmap = \"YlGnBu\")\n",
        "\n",
        "ax[0].set_title('Train Set', fontsize = 15)\n",
        "ax[1].set_title('CV Set', fontsize = 15)\n",
        "plt.show()"
      ],
      "execution_count": null,
      "outputs": []
    },
    {
      "cell_type": "code",
      "metadata": {
        "id": "YKViI7Nxr02z"
      },
      "source": [
        "# train xgboost model with the optimal hyperparameters found above \n",
        "\n",
        "xgb = XGBClassifier(n_estimators = 500, max_depth = 15, n_jobs = -1, random_state = 21)\n",
        "xgb.fit(X_train, y_train)\n",
        "y_pred_train =  xgb.predict(X_train)\n",
        "y_pred_test = xgb.predict(X_test)\n",
        "train_f1 = f1_score(y_train, y_pred_train)\n",
        "test_f1 = f1_score(y_test, y_pred_test)\n",
        "\n",
        "print(\"Train f1 score = \", train_f1)\n",
        "print(\"Test f1 score = \", test_f1)"
      ],
      "execution_count": null,
      "outputs": []
    },
    {
      "cell_type": "code",
      "metadata": {
        "id": "JdRb1w0Zr3i2"
      },
      "source": [
        "# plotting confusion matrix, precision matrix and recall matrix\n",
        "\n",
        "train_accuracy = accuracy_score(y_train, y_pred_train)\n",
        "test_accuracy = accuracy_score(y_test, y_pred_test)\n",
        "\n",
        "print(\"- \"*30, 'Train confusion_matrix', \"- \"*30)\n",
        "plot_confusion_matrix(y_train, y_pred_train)\n",
        "print(\"\\nTrain F1 score:\", round(train_f1, 4))\n",
        "print(\"Train Accuracy:\", round(train_accuracy*100, 2), \"%\")\n",
        "\n",
        "print(\"- \"*30, 'Test confusion_matrix', \"- \"*30)\n",
        "plot_confusion_matrix(y_test, y_pred_test)\n",
        "print(\"\\nTest F1 score:\", round(test_f1, 4))\n",
        "print(\"Test Accuracy:\", round(test_accuracy*100, 2), \"%\")"
      ],
      "execution_count": null,
      "outputs": []
    },
    {
      "cell_type": "code",
      "metadata": {
        "id": "KsFm9Nvsr6YP",
        "colab": {
          "base_uri": "https://localhost:8080/"
        },
        "outputId": "853ce30a-2ce5-4c76-a61e-b6ecc4b3ba84"
      },
      "source": [
        "# relative feature importance\n",
        "\n",
        "feat_df = pd.DataFrame({'Features' : X_train.columns, 'Relative Importance' :xgb.feature_importances_})\n",
        "imp_feat_df = feat_df.sort_values('Relative Importance', ascending = False)[:25]\n",
        "sns.set(style = 'ticks')\n",
        "plt.figure(figsize = (8, 10))\n",
        "sns.barplot(y = 'Features', x = 'Relative Importance', data = imp_feat_df)\n",
        "plt.title('Feature Importance', fontsize = 15)\n",
        "plt.xlabel('Relative Importance')\n",
        "plt.ylabel('Features')\n",
        "plt.yticks(fontsize = 12)\n",
        "plt.grid()\n",
        "plt.show()"
      ],
      "execution_count": null,
      "outputs": [
        {
          "output_type": "error",
          "ename": "NameError",
          "evalue": "ignored",
          "traceback": [
            "\u001b[0;31m---------------------------------------------------------------------------\u001b[0m",
            "\u001b[0;31mNameError\u001b[0m                                 Traceback (most recent call last)",
            "\u001b[0;32m<ipython-input-1-b7ba0d7dd804>\u001b[0m in \u001b[0;36m<module>\u001b[0;34m()\u001b[0m\n\u001b[1;32m      1\u001b[0m \u001b[0;31m# relative feature importance\u001b[0m\u001b[0;34m\u001b[0m\u001b[0;34m\u001b[0m\u001b[0;34m\u001b[0m\u001b[0m\n\u001b[1;32m      2\u001b[0m \u001b[0;34m\u001b[0m\u001b[0m\n\u001b[0;32m----> 3\u001b[0;31m \u001b[0mfeat_df\u001b[0m \u001b[0;34m=\u001b[0m \u001b[0mpd\u001b[0m\u001b[0;34m.\u001b[0m\u001b[0mDataFrame\u001b[0m\u001b[0;34m(\u001b[0m\u001b[0;34m{\u001b[0m\u001b[0;34m'Features'\u001b[0m \u001b[0;34m:\u001b[0m \u001b[0mX_train\u001b[0m\u001b[0;34m.\u001b[0m\u001b[0mcolumns\u001b[0m\u001b[0;34m,\u001b[0m \u001b[0;34m'Relative Importance'\u001b[0m \u001b[0;34m:\u001b[0m\u001b[0mxgb\u001b[0m\u001b[0;34m.\u001b[0m\u001b[0mfeature_importances_\u001b[0m\u001b[0;34m}\u001b[0m\u001b[0;34m)\u001b[0m\u001b[0;34m\u001b[0m\u001b[0;34m\u001b[0m\u001b[0m\n\u001b[0m\u001b[1;32m      4\u001b[0m \u001b[0mimp_feat_df\u001b[0m \u001b[0;34m=\u001b[0m \u001b[0mfeat_df\u001b[0m\u001b[0;34m.\u001b[0m\u001b[0msort_values\u001b[0m\u001b[0;34m(\u001b[0m\u001b[0;34m'Relative Importance'\u001b[0m\u001b[0;34m,\u001b[0m \u001b[0mascending\u001b[0m \u001b[0;34m=\u001b[0m \u001b[0;32mFalse\u001b[0m\u001b[0;34m)\u001b[0m\u001b[0;34m[\u001b[0m\u001b[0;34m:\u001b[0m\u001b[0;36m25\u001b[0m\u001b[0;34m]\u001b[0m\u001b[0;34m\u001b[0m\u001b[0;34m\u001b[0m\u001b[0m\n\u001b[1;32m      5\u001b[0m \u001b[0msns\u001b[0m\u001b[0;34m.\u001b[0m\u001b[0mset\u001b[0m\u001b[0;34m(\u001b[0m\u001b[0mstyle\u001b[0m \u001b[0;34m=\u001b[0m \u001b[0;34m'ticks'\u001b[0m\u001b[0;34m)\u001b[0m\u001b[0;34m\u001b[0m\u001b[0;34m\u001b[0m\u001b[0m\n",
            "\u001b[0;31mNameError\u001b[0m: name 'pd' is not defined"
          ]
        }
      ]
    },
    {
      "cell_type": "markdown",
      "metadata": {
        "id": "BQbMidhqr8qd"
      },
      "source": [
        "# **SUMMARY & CONCLUSION**"
      ]
    },
    {
      "cell_type": "code",
      "metadata": {
        "id": "BoX7XiPqsA3P"
      },
      "source": [
        "from prettytable import PrettyTable\n",
        "table = PrettyTable()\n",
        "table.field_names = ('Sr.no.','Model', 'F1 Score', 'Accuracy(in %)')\n",
        "table.add_row([\"1.\\n\", \"Random Forest\", 0.9343, 93.77])\n",
        "table.add_row([\"2.\", \"XGBoost\", 0.9318, 93.54])\n",
        "print(table)"
      ],
      "execution_count": null,
      "outputs": []
    }
  ]
}